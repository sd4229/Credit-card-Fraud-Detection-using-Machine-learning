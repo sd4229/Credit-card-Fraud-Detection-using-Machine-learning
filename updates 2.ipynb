{
 "cells": [
  {
   "cell_type": "code",
   "execution_count": 1,
   "id": "played-monkey",
   "metadata": {},
   "outputs": [],
   "source": [
    "import numpy as np\n",
    "import pandas as pd\n",
    "from sklearn.svm import SVC \n",
    "from tensorflow.keras.models import Sequential\n",
    "from tensorflow.keras.layers import Dense\n",
    "import tensorflow as tf"
   ]
  },
  {
   "cell_type": "code",
   "execution_count": 2,
   "id": "1228748a",
   "metadata": {},
   "outputs": [],
   "source": [
    "# !pip install tensorflow"
   ]
  },
  {
   "cell_type": "code",
   "execution_count": 3,
   "id": "massive-spring",
   "metadata": {},
   "outputs": [],
   "source": [
    "df=pd.read_csv(r'Z:\\CHANDRA MOULI B VS R\\2021-2022\\BUSINESS PROJECTS\\NOVEMBER\\TK12938 CREDIT CARD FRAUD DETECTION USING MACHINE LEARNING\\SOURCE CODE YMTS-0420\\DATA SET\\creditcard.csv')"
   ]
  },
  {
   "cell_type": "code",
   "execution_count": 4,
   "id": "artificial-coupon",
   "metadata": {},
   "outputs": [
    {
     "data": {
      "text/plain": [
       "(284807, 31)"
      ]
     },
     "execution_count": 4,
     "metadata": {},
     "output_type": "execute_result"
    }
   ],
   "source": [
    "df.shape"
   ]
  },
  {
   "cell_type": "code",
   "execution_count": 5,
   "id": "horizontal-oasis",
   "metadata": {},
   "outputs": [],
   "source": [
    "df=df.sample(frac=0.3)"
   ]
  },
  {
   "cell_type": "code",
   "execution_count": 6,
   "id": "varied-iraqi",
   "metadata": {},
   "outputs": [
    {
     "data": {
      "text/html": [
       "<div>\n",
       "<style scoped>\n",
       "    .dataframe tbody tr th:only-of-type {\n",
       "        vertical-align: middle;\n",
       "    }\n",
       "\n",
       "    .dataframe tbody tr th {\n",
       "        vertical-align: top;\n",
       "    }\n",
       "\n",
       "    .dataframe thead th {\n",
       "        text-align: right;\n",
       "    }\n",
       "</style>\n",
       "<table border=\"1\" class=\"dataframe\">\n",
       "  <thead>\n",
       "    <tr style=\"text-align: right;\">\n",
       "      <th></th>\n",
       "      <th>Time</th>\n",
       "      <th>V1</th>\n",
       "      <th>V2</th>\n",
       "      <th>V3</th>\n",
       "      <th>V4</th>\n",
       "      <th>V5</th>\n",
       "      <th>V6</th>\n",
       "      <th>V7</th>\n",
       "      <th>V8</th>\n",
       "      <th>V9</th>\n",
       "      <th>...</th>\n",
       "      <th>V21</th>\n",
       "      <th>V22</th>\n",
       "      <th>V23</th>\n",
       "      <th>V24</th>\n",
       "      <th>V25</th>\n",
       "      <th>V26</th>\n",
       "      <th>V27</th>\n",
       "      <th>V28</th>\n",
       "      <th>Amount</th>\n",
       "      <th>Class</th>\n",
       "    </tr>\n",
       "  </thead>\n",
       "  <tbody>\n",
       "    <tr>\n",
       "      <th>107163</th>\n",
       "      <td>70309.0</td>\n",
       "      <td>-0.382608</td>\n",
       "      <td>0.947206</td>\n",
       "      <td>1.691947</td>\n",
       "      <td>0.434948</td>\n",
       "      <td>-0.037888</td>\n",
       "      <td>-0.589335</td>\n",
       "      <td>0.612458</td>\n",
       "      <td>0.073153</td>\n",
       "      <td>-0.686599</td>\n",
       "      <td>...</td>\n",
       "      <td>0.080359</td>\n",
       "      <td>0.143413</td>\n",
       "      <td>-0.164020</td>\n",
       "      <td>0.488813</td>\n",
       "      <td>-0.011482</td>\n",
       "      <td>-0.507221</td>\n",
       "      <td>0.066454</td>\n",
       "      <td>0.055978</td>\n",
       "      <td>2.49</td>\n",
       "      <td>0</td>\n",
       "    </tr>\n",
       "    <tr>\n",
       "      <th>3240</th>\n",
       "      <td>2800.0</td>\n",
       "      <td>1.220318</td>\n",
       "      <td>-0.042804</td>\n",
       "      <td>0.714912</td>\n",
       "      <td>-0.133098</td>\n",
       "      <td>-0.788829</td>\n",
       "      <td>-0.802845</td>\n",
       "      <td>-0.268293</td>\n",
       "      <td>-0.060892</td>\n",
       "      <td>0.044871</td>\n",
       "      <td>...</td>\n",
       "      <td>-0.061198</td>\n",
       "      <td>-0.183541</td>\n",
       "      <td>0.101129</td>\n",
       "      <td>0.612228</td>\n",
       "      <td>0.076245</td>\n",
       "      <td>0.872267</td>\n",
       "      <td>-0.071596</td>\n",
       "      <td>0.002977</td>\n",
       "      <td>5.37</td>\n",
       "      <td>0</td>\n",
       "    </tr>\n",
       "    <tr>\n",
       "      <th>166539</th>\n",
       "      <td>118143.0</td>\n",
       "      <td>2.106341</td>\n",
       "      <td>-0.778178</td>\n",
       "      <td>-1.183580</td>\n",
       "      <td>-0.723059</td>\n",
       "      <td>-0.734125</td>\n",
       "      <td>-0.546742</td>\n",
       "      <td>-1.051381</td>\n",
       "      <td>0.059385</td>\n",
       "      <td>-0.061946</td>\n",
       "      <td>...</td>\n",
       "      <td>0.267587</td>\n",
       "      <td>0.800949</td>\n",
       "      <td>0.065660</td>\n",
       "      <td>-0.513824</td>\n",
       "      <td>-0.177062</td>\n",
       "      <td>-0.079558</td>\n",
       "      <td>0.022887</td>\n",
       "      <td>-0.026706</td>\n",
       "      <td>19.95</td>\n",
       "      <td>0</td>\n",
       "    </tr>\n",
       "    <tr>\n",
       "      <th>155629</th>\n",
       "      <td>105934.0</td>\n",
       "      <td>1.968633</td>\n",
       "      <td>-0.470783</td>\n",
       "      <td>-1.628310</td>\n",
       "      <td>-0.592380</td>\n",
       "      <td>1.899461</td>\n",
       "      <td>3.743100</td>\n",
       "      <td>-1.170932</td>\n",
       "      <td>0.926723</td>\n",
       "      <td>2.441717</td>\n",
       "      <td>...</td>\n",
       "      <td>-0.264293</td>\n",
       "      <td>-0.512595</td>\n",
       "      <td>0.394943</td>\n",
       "      <td>0.583637</td>\n",
       "      <td>-0.354341</td>\n",
       "      <td>-0.943201</td>\n",
       "      <td>0.050438</td>\n",
       "      <td>-0.037977</td>\n",
       "      <td>11.27</td>\n",
       "      <td>0</td>\n",
       "    </tr>\n",
       "    <tr>\n",
       "      <th>259189</th>\n",
       "      <td>159007.0</td>\n",
       "      <td>-5.892008</td>\n",
       "      <td>-7.133221</td>\n",
       "      <td>0.197904</td>\n",
       "      <td>1.813522</td>\n",
       "      <td>7.040782</td>\n",
       "      <td>-4.055840</td>\n",
       "      <td>-4.009626</td>\n",
       "      <td>0.212156</td>\n",
       "      <td>0.746039</td>\n",
       "      <td>...</td>\n",
       "      <td>-0.073299</td>\n",
       "      <td>0.169854</td>\n",
       "      <td>-0.656184</td>\n",
       "      <td>0.389210</td>\n",
       "      <td>-0.465689</td>\n",
       "      <td>-0.169486</td>\n",
       "      <td>0.837680</td>\n",
       "      <td>0.157256</td>\n",
       "      <td>187.13</td>\n",
       "      <td>0</td>\n",
       "    </tr>\n",
       "  </tbody>\n",
       "</table>\n",
       "<p>5 rows × 31 columns</p>\n",
       "</div>"
      ],
      "text/plain": [
       "            Time        V1        V2        V3        V4        V5        V6  \\\n",
       "107163   70309.0 -0.382608  0.947206  1.691947  0.434948 -0.037888 -0.589335   \n",
       "3240      2800.0  1.220318 -0.042804  0.714912 -0.133098 -0.788829 -0.802845   \n",
       "166539  118143.0  2.106341 -0.778178 -1.183580 -0.723059 -0.734125 -0.546742   \n",
       "155629  105934.0  1.968633 -0.470783 -1.628310 -0.592380  1.899461  3.743100   \n",
       "259189  159007.0 -5.892008 -7.133221  0.197904  1.813522  7.040782 -4.055840   \n",
       "\n",
       "              V7        V8        V9  ...       V21       V22       V23  \\\n",
       "107163  0.612458  0.073153 -0.686599  ...  0.080359  0.143413 -0.164020   \n",
       "3240   -0.268293 -0.060892  0.044871  ... -0.061198 -0.183541  0.101129   \n",
       "166539 -1.051381  0.059385 -0.061946  ...  0.267587  0.800949  0.065660   \n",
       "155629 -1.170932  0.926723  2.441717  ... -0.264293 -0.512595  0.394943   \n",
       "259189 -4.009626  0.212156  0.746039  ... -0.073299  0.169854 -0.656184   \n",
       "\n",
       "             V24       V25       V26       V27       V28  Amount  Class  \n",
       "107163  0.488813 -0.011482 -0.507221  0.066454  0.055978    2.49      0  \n",
       "3240    0.612228  0.076245  0.872267 -0.071596  0.002977    5.37      0  \n",
       "166539 -0.513824 -0.177062 -0.079558  0.022887 -0.026706   19.95      0  \n",
       "155629  0.583637 -0.354341 -0.943201  0.050438 -0.037977   11.27      0  \n",
       "259189  0.389210 -0.465689 -0.169486  0.837680  0.157256  187.13      0  \n",
       "\n",
       "[5 rows x 31 columns]"
      ]
     },
     "execution_count": 6,
     "metadata": {},
     "output_type": "execute_result"
    }
   ],
   "source": [
    "df.head()"
   ]
  },
  {
   "cell_type": "code",
   "execution_count": 7,
   "id": "failing-accuracy",
   "metadata": {},
   "outputs": [],
   "source": [
    "# df[df['']]"
   ]
  },
  {
   "cell_type": "code",
   "execution_count": 8,
   "id": "announced-musical",
   "metadata": {},
   "outputs": [
    {
     "data": {
      "text/plain": [
       "Time      0\n",
       "V1        0\n",
       "V2        0\n",
       "V3        0\n",
       "V4        0\n",
       "V5        0\n",
       "V6        0\n",
       "V7        0\n",
       "V8        0\n",
       "V9        0\n",
       "V10       0\n",
       "V11       0\n",
       "V12       0\n",
       "V13       0\n",
       "V14       0\n",
       "V15       0\n",
       "V16       0\n",
       "V17       0\n",
       "V18       0\n",
       "V19       0\n",
       "V20       0\n",
       "V21       0\n",
       "V22       0\n",
       "V23       0\n",
       "V24       0\n",
       "V25       0\n",
       "V26       0\n",
       "V27       0\n",
       "V28       0\n",
       "Amount    0\n",
       "Class     0\n",
       "dtype: int64"
      ]
     },
     "execution_count": 8,
     "metadata": {},
     "output_type": "execute_result"
    }
   ],
   "source": [
    "df.isnull().sum()#2"
   ]
  },
  {
   "cell_type": "code",
   "execution_count": 9,
   "id": "united-terrorist",
   "metadata": {},
   "outputs": [
    {
     "data": {
      "text/html": [
       "<div>\n",
       "<style scoped>\n",
       "    .dataframe tbody tr th:only-of-type {\n",
       "        vertical-align: middle;\n",
       "    }\n",
       "\n",
       "    .dataframe tbody tr th {\n",
       "        vertical-align: top;\n",
       "    }\n",
       "\n",
       "    .dataframe thead th {\n",
       "        text-align: right;\n",
       "    }\n",
       "</style>\n",
       "<table border=\"1\" class=\"dataframe\">\n",
       "  <thead>\n",
       "    <tr style=\"text-align: right;\">\n",
       "      <th></th>\n",
       "      <th>Time</th>\n",
       "      <th>V1</th>\n",
       "      <th>V2</th>\n",
       "      <th>V3</th>\n",
       "      <th>V4</th>\n",
       "      <th>V5</th>\n",
       "      <th>V6</th>\n",
       "      <th>V7</th>\n",
       "      <th>V8</th>\n",
       "      <th>V9</th>\n",
       "      <th>...</th>\n",
       "      <th>V21</th>\n",
       "      <th>V22</th>\n",
       "      <th>V23</th>\n",
       "      <th>V24</th>\n",
       "      <th>V25</th>\n",
       "      <th>V26</th>\n",
       "      <th>V27</th>\n",
       "      <th>V28</th>\n",
       "      <th>Amount</th>\n",
       "      <th>Class</th>\n",
       "    </tr>\n",
       "  </thead>\n",
       "  <tbody>\n",
       "    <tr>\n",
       "      <th>count</th>\n",
       "      <td>85442.000000</td>\n",
       "      <td>85442.000000</td>\n",
       "      <td>85442.000000</td>\n",
       "      <td>85442.000000</td>\n",
       "      <td>85442.000000</td>\n",
       "      <td>85442.000000</td>\n",
       "      <td>85442.000000</td>\n",
       "      <td>85442.000000</td>\n",
       "      <td>85442.000000</td>\n",
       "      <td>85442.000000</td>\n",
       "      <td>...</td>\n",
       "      <td>85442.000000</td>\n",
       "      <td>85442.000000</td>\n",
       "      <td>85442.000000</td>\n",
       "      <td>85442.000000</td>\n",
       "      <td>85442.000000</td>\n",
       "      <td>85442.000000</td>\n",
       "      <td>85442.000000</td>\n",
       "      <td>85442.000000</td>\n",
       "      <td>85442.000000</td>\n",
       "      <td>85442.000000</td>\n",
       "    </tr>\n",
       "    <tr>\n",
       "      <th>mean</th>\n",
       "      <td>94547.340336</td>\n",
       "      <td>-0.007446</td>\n",
       "      <td>0.001947</td>\n",
       "      <td>0.001525</td>\n",
       "      <td>0.000275</td>\n",
       "      <td>-0.003181</td>\n",
       "      <td>0.000917</td>\n",
       "      <td>0.001719</td>\n",
       "      <td>-0.004465</td>\n",
       "      <td>-0.006161</td>\n",
       "      <td>...</td>\n",
       "      <td>-0.000124</td>\n",
       "      <td>-0.003030</td>\n",
       "      <td>-0.001896</td>\n",
       "      <td>-0.000969</td>\n",
       "      <td>-0.000025</td>\n",
       "      <td>0.000629</td>\n",
       "      <td>-0.001443</td>\n",
       "      <td>-0.001501</td>\n",
       "      <td>89.225025</td>\n",
       "      <td>0.001779</td>\n",
       "    </tr>\n",
       "    <tr>\n",
       "      <th>std</th>\n",
       "      <td>47500.108986</td>\n",
       "      <td>1.959400</td>\n",
       "      <td>1.654424</td>\n",
       "      <td>1.513054</td>\n",
       "      <td>1.418487</td>\n",
       "      <td>1.366378</td>\n",
       "      <td>1.326638</td>\n",
       "      <td>1.233693</td>\n",
       "      <td>1.245126</td>\n",
       "      <td>1.107008</td>\n",
       "      <td>...</td>\n",
       "      <td>0.753481</td>\n",
       "      <td>0.727757</td>\n",
       "      <td>0.613281</td>\n",
       "      <td>0.604429</td>\n",
       "      <td>0.520524</td>\n",
       "      <td>0.482108</td>\n",
       "      <td>0.404876</td>\n",
       "      <td>0.331808</td>\n",
       "      <td>244.102846</td>\n",
       "      <td>0.042141</td>\n",
       "    </tr>\n",
       "    <tr>\n",
       "      <th>min</th>\n",
       "      <td>0.000000</td>\n",
       "      <td>-56.407510</td>\n",
       "      <td>-72.715728</td>\n",
       "      <td>-32.454198</td>\n",
       "      <td>-5.683171</td>\n",
       "      <td>-42.147898</td>\n",
       "      <td>-26.160506</td>\n",
       "      <td>-43.557242</td>\n",
       "      <td>-73.216718</td>\n",
       "      <td>-13.434066</td>\n",
       "      <td>...</td>\n",
       "      <td>-34.830382</td>\n",
       "      <td>-8.887017</td>\n",
       "      <td>-32.828995</td>\n",
       "      <td>-2.836627</td>\n",
       "      <td>-8.696627</td>\n",
       "      <td>-2.241620</td>\n",
       "      <td>-22.565679</td>\n",
       "      <td>-11.710896</td>\n",
       "      <td>0.000000</td>\n",
       "      <td>0.000000</td>\n",
       "    </tr>\n",
       "    <tr>\n",
       "      <th>25%</th>\n",
       "      <td>54005.250000</td>\n",
       "      <td>-0.923742</td>\n",
       "      <td>-0.597661</td>\n",
       "      <td>-0.893144</td>\n",
       "      <td>-0.850581</td>\n",
       "      <td>-0.696756</td>\n",
       "      <td>-0.765780</td>\n",
       "      <td>-0.551039</td>\n",
       "      <td>-0.209630</td>\n",
       "      <td>-0.655801</td>\n",
       "      <td>...</td>\n",
       "      <td>-0.229946</td>\n",
       "      <td>-0.546288</td>\n",
       "      <td>-0.162468</td>\n",
       "      <td>-0.356602</td>\n",
       "      <td>-0.315440</td>\n",
       "      <td>-0.327647</td>\n",
       "      <td>-0.071660</td>\n",
       "      <td>-0.053116</td>\n",
       "      <td>5.510000</td>\n",
       "      <td>0.000000</td>\n",
       "    </tr>\n",
       "    <tr>\n",
       "      <th>50%</th>\n",
       "      <td>84358.000000</td>\n",
       "      <td>0.012192</td>\n",
       "      <td>0.065162</td>\n",
       "      <td>0.185660</td>\n",
       "      <td>-0.018344</td>\n",
       "      <td>-0.052685</td>\n",
       "      <td>-0.271314</td>\n",
       "      <td>0.043161</td>\n",
       "      <td>0.021248</td>\n",
       "      <td>-0.054549</td>\n",
       "      <td>...</td>\n",
       "      <td>-0.030211</td>\n",
       "      <td>0.001681</td>\n",
       "      <td>-0.011724</td>\n",
       "      <td>0.041637</td>\n",
       "      <td>0.016816</td>\n",
       "      <td>-0.050943</td>\n",
       "      <td>0.000663</td>\n",
       "      <td>0.011607</td>\n",
       "      <td>22.025000</td>\n",
       "      <td>0.000000</td>\n",
       "    </tr>\n",
       "    <tr>\n",
       "      <th>75%</th>\n",
       "      <td>139269.000000</td>\n",
       "      <td>1.307721</td>\n",
       "      <td>0.809902</td>\n",
       "      <td>1.026276</td>\n",
       "      <td>0.743686</td>\n",
       "      <td>0.608675</td>\n",
       "      <td>0.395036</td>\n",
       "      <td>0.570013</td>\n",
       "      <td>0.327049</td>\n",
       "      <td>0.590747</td>\n",
       "      <td>...</td>\n",
       "      <td>0.185630</td>\n",
       "      <td>0.525843</td>\n",
       "      <td>0.146453</td>\n",
       "      <td>0.437120</td>\n",
       "      <td>0.351002</td>\n",
       "      <td>0.241486</td>\n",
       "      <td>0.089928</td>\n",
       "      <td>0.078403</td>\n",
       "      <td>78.000000</td>\n",
       "      <td>0.000000</td>\n",
       "    </tr>\n",
       "    <tr>\n",
       "      <th>max</th>\n",
       "      <td>172792.000000</td>\n",
       "      <td>2.412720</td>\n",
       "      <td>22.057729</td>\n",
       "      <td>9.382558</td>\n",
       "      <td>16.491217</td>\n",
       "      <td>34.801666</td>\n",
       "      <td>22.529298</td>\n",
       "      <td>36.677268</td>\n",
       "      <td>19.168327</td>\n",
       "      <td>15.594995</td>\n",
       "      <td>...</td>\n",
       "      <td>27.202839</td>\n",
       "      <td>10.503090</td>\n",
       "      <td>17.768462</td>\n",
       "      <td>4.014444</td>\n",
       "      <td>5.852484</td>\n",
       "      <td>3.067907</td>\n",
       "      <td>12.152401</td>\n",
       "      <td>33.847808</td>\n",
       "      <td>11789.840000</td>\n",
       "      <td>1.000000</td>\n",
       "    </tr>\n",
       "  </tbody>\n",
       "</table>\n",
       "<p>8 rows × 31 columns</p>\n",
       "</div>"
      ],
      "text/plain": [
       "                Time            V1            V2            V3            V4  \\\n",
       "count   85442.000000  85442.000000  85442.000000  85442.000000  85442.000000   \n",
       "mean    94547.340336     -0.007446      0.001947      0.001525      0.000275   \n",
       "std     47500.108986      1.959400      1.654424      1.513054      1.418487   \n",
       "min         0.000000    -56.407510    -72.715728    -32.454198     -5.683171   \n",
       "25%     54005.250000     -0.923742     -0.597661     -0.893144     -0.850581   \n",
       "50%     84358.000000      0.012192      0.065162      0.185660     -0.018344   \n",
       "75%    139269.000000      1.307721      0.809902      1.026276      0.743686   \n",
       "max    172792.000000      2.412720     22.057729      9.382558     16.491217   \n",
       "\n",
       "                 V5            V6            V7            V8            V9  \\\n",
       "count  85442.000000  85442.000000  85442.000000  85442.000000  85442.000000   \n",
       "mean      -0.003181      0.000917      0.001719     -0.004465     -0.006161   \n",
       "std        1.366378      1.326638      1.233693      1.245126      1.107008   \n",
       "min      -42.147898    -26.160506    -43.557242    -73.216718    -13.434066   \n",
       "25%       -0.696756     -0.765780     -0.551039     -0.209630     -0.655801   \n",
       "50%       -0.052685     -0.271314      0.043161      0.021248     -0.054549   \n",
       "75%        0.608675      0.395036      0.570013      0.327049      0.590747   \n",
       "max       34.801666     22.529298     36.677268     19.168327     15.594995   \n",
       "\n",
       "       ...           V21           V22           V23           V24  \\\n",
       "count  ...  85442.000000  85442.000000  85442.000000  85442.000000   \n",
       "mean   ...     -0.000124     -0.003030     -0.001896     -0.000969   \n",
       "std    ...      0.753481      0.727757      0.613281      0.604429   \n",
       "min    ...    -34.830382     -8.887017    -32.828995     -2.836627   \n",
       "25%    ...     -0.229946     -0.546288     -0.162468     -0.356602   \n",
       "50%    ...     -0.030211      0.001681     -0.011724      0.041637   \n",
       "75%    ...      0.185630      0.525843      0.146453      0.437120   \n",
       "max    ...     27.202839     10.503090     17.768462      4.014444   \n",
       "\n",
       "                V25           V26           V27           V28        Amount  \\\n",
       "count  85442.000000  85442.000000  85442.000000  85442.000000  85442.000000   \n",
       "mean      -0.000025      0.000629     -0.001443     -0.001501     89.225025   \n",
       "std        0.520524      0.482108      0.404876      0.331808    244.102846   \n",
       "min       -8.696627     -2.241620    -22.565679    -11.710896      0.000000   \n",
       "25%       -0.315440     -0.327647     -0.071660     -0.053116      5.510000   \n",
       "50%        0.016816     -0.050943      0.000663      0.011607     22.025000   \n",
       "75%        0.351002      0.241486      0.089928      0.078403     78.000000   \n",
       "max        5.852484      3.067907     12.152401     33.847808  11789.840000   \n",
       "\n",
       "              Class  \n",
       "count  85442.000000  \n",
       "mean       0.001779  \n",
       "std        0.042141  \n",
       "min        0.000000  \n",
       "25%        0.000000  \n",
       "50%        0.000000  \n",
       "75%        0.000000  \n",
       "max        1.000000  \n",
       "\n",
       "[8 rows x 31 columns]"
      ]
     },
     "execution_count": 9,
     "metadata": {},
     "output_type": "execute_result"
    }
   ],
   "source": [
    "df.describe()"
   ]
  },
  {
   "cell_type": "code",
   "execution_count": 10,
   "id": "exotic-charge",
   "metadata": {},
   "outputs": [
    {
     "name": "stdout",
     "output_type": "stream",
     "text": [
      "<class 'pandas.core.frame.DataFrame'>\n",
      "Int64Index: 85442 entries, 107163 to 75185\n",
      "Data columns (total 31 columns):\n",
      " #   Column  Non-Null Count  Dtype  \n",
      "---  ------  --------------  -----  \n",
      " 0   Time    85442 non-null  float64\n",
      " 1   V1      85442 non-null  float64\n",
      " 2   V2      85442 non-null  float64\n",
      " 3   V3      85442 non-null  float64\n",
      " 4   V4      85442 non-null  float64\n",
      " 5   V5      85442 non-null  float64\n",
      " 6   V6      85442 non-null  float64\n",
      " 7   V7      85442 non-null  float64\n",
      " 8   V8      85442 non-null  float64\n",
      " 9   V9      85442 non-null  float64\n",
      " 10  V10     85442 non-null  float64\n",
      " 11  V11     85442 non-null  float64\n",
      " 12  V12     85442 non-null  float64\n",
      " 13  V13     85442 non-null  float64\n",
      " 14  V14     85442 non-null  float64\n",
      " 15  V15     85442 non-null  float64\n",
      " 16  V16     85442 non-null  float64\n",
      " 17  V17     85442 non-null  float64\n",
      " 18  V18     85442 non-null  float64\n",
      " 19  V19     85442 non-null  float64\n",
      " 20  V20     85442 non-null  float64\n",
      " 21  V21     85442 non-null  float64\n",
      " 22  V22     85442 non-null  float64\n",
      " 23  V23     85442 non-null  float64\n",
      " 24  V24     85442 non-null  float64\n",
      " 25  V25     85442 non-null  float64\n",
      " 26  V26     85442 non-null  float64\n",
      " 27  V27     85442 non-null  float64\n",
      " 28  V28     85442 non-null  float64\n",
      " 29  Amount  85442 non-null  float64\n",
      " 30  Class   85442 non-null  int64  \n",
      "dtypes: float64(30), int64(1)\n",
      "memory usage: 20.9 MB\n"
     ]
    }
   ],
   "source": [
    "df.info()#3"
   ]
  },
  {
   "cell_type": "code",
   "execution_count": 11,
   "id": "meaning-crystal",
   "metadata": {},
   "outputs": [
    {
     "data": {
      "text/plain": [
       "0    85290\n",
       "1      152\n",
       "Name: Class, dtype: int64"
      ]
     },
     "execution_count": 11,
     "metadata": {},
     "output_type": "execute_result"
    }
   ],
   "source": [
    "df.Class.value_counts()"
   ]
  },
  {
   "cell_type": "code",
   "execution_count": 12,
   "id": "beginning-hammer",
   "metadata": {},
   "outputs": [
    {
     "data": {
      "text/plain": [
       "0    99.822102\n",
       "1     0.177898\n",
       "Name: Class, dtype: float64"
      ]
     },
     "execution_count": 12,
     "metadata": {},
     "output_type": "execute_result"
    }
   ],
   "source": [
    "df.Class.value_counts()*100/df.shape[0]"
   ]
  },
  {
   "cell_type": "code",
   "execution_count": 13,
   "id": "51fdf255",
   "metadata": {},
   "outputs": [],
   "source": [
    "# !pip install seaborn"
   ]
  },
  {
   "cell_type": "code",
   "execution_count": 14,
   "id": "elder-conjunction",
   "metadata": {},
   "outputs": [],
   "source": [
    "import matplotlib.pyplot as plt\n",
    "%matplotlib inline\n",
    "import seaborn as sns"
   ]
  },
  {
   "cell_type": "code",
   "execution_count": 15,
   "id": "laden-elder",
   "metadata": {},
   "outputs": [
    {
     "data": {
      "text/plain": [
       "<AxesSubplot:>"
      ]
     },
     "execution_count": 15,
     "metadata": {},
     "output_type": "execute_result"
    },
    {
     "data": {
      "image/png": "[encoded data removed]",
      "text/plain": [
       "<Figure size 864x576 with 2 Axes>"
      ]
     },
     "metadata": {
      "needs_background": "light"
     },
     "output_type": "display_data"
    }
   ],
   "source": [
    "plt.figure(figsize=(12,8))#4\n",
    "sns.heatmap(df.corr()) # Heatmap of correlation between columns of ‘df’."
   ]
  },
  {
   "cell_type": "markdown",
   "id": "african-vermont",
   "metadata": {},
   "source": [
    "# Algorithms"
   ]
  },
  {
   "cell_type": "code",
   "execution_count": 16,
   "id": "opposed-insurance",
   "metadata": {},
   "outputs": [],
   "source": [
    "from sklearn.metrics import accuracy_score, classification_report, recall_score,precision_score\n",
    "from sklearn.model_selection import train_test_split\n"
   ]
  },
  {
   "cell_type": "code",
   "execution_count": 17,
   "id": "associate-entity",
   "metadata": {},
   "outputs": [],
   "source": [
    "X=df.drop(['Class'],axis=1)\n",
    "y=df.Class"
   ]
  },
  {
   "cell_type": "code",
   "execution_count": 57,
   "id": "seasonal-remainder",
   "metadata": {},
   "outputs": [],
   "source": [
    "X_train, X_test, y_train, y_test = train_test_split(X, y, test_size=0.3, random_state=42)"
   ]
  },
  {
   "cell_type": "code",
   "execution_count": 58,
   "id": "thermal-oasis",
   "metadata": {},
   "outputs": [
    {
     "data": {
      "text/plain": [
       "(25633, 30)"
      ]
     },
     "execution_count": 58,
     "metadata": {},
     "output_type": "execute_result"
    }
   ],
   "source": [
    "X_test.shape"
   ]
  },
  {
   "cell_type": "code",
   "execution_count": 59,
   "id": "orange-terrorist",
   "metadata": {},
   "outputs": [
    {
     "data": {
      "text/html": [
       "<div>\n",
       "<style scoped>\n",
       "    .dataframe tbody tr th:only-of-type {\n",
       "        vertical-align: middle;\n",
       "    }\n",
       "\n",
       "    .dataframe tbody tr th {\n",
       "        vertical-align: top;\n",
       "    }\n",
       "\n",
       "    .dataframe thead th {\n",
       "        text-align: right;\n",
       "    }\n",
       "</style>\n",
       "<table border=\"1\" class=\"dataframe\">\n",
       "  <thead>\n",
       "    <tr style=\"text-align: right;\">\n",
       "      <th></th>\n",
       "      <th>Time</th>\n",
       "      <th>V1</th>\n",
       "      <th>V2</th>\n",
       "      <th>V3</th>\n",
       "      <th>V4</th>\n",
       "      <th>V5</th>\n",
       "      <th>V6</th>\n",
       "      <th>V7</th>\n",
       "      <th>V8</th>\n",
       "      <th>V9</th>\n",
       "      <th>...</th>\n",
       "      <th>V20</th>\n",
       "      <th>V21</th>\n",
       "      <th>V22</th>\n",
       "      <th>V23</th>\n",
       "      <th>V24</th>\n",
       "      <th>V25</th>\n",
       "      <th>V26</th>\n",
       "      <th>V27</th>\n",
       "      <th>V28</th>\n",
       "      <th>Amount</th>\n",
       "    </tr>\n",
       "  </thead>\n",
       "  <tbody>\n",
       "    <tr>\n",
       "      <th>192814</th>\n",
       "      <td>129861.0</td>\n",
       "      <td>-0.269660</td>\n",
       "      <td>0.312709</td>\n",
       "      <td>0.392943</td>\n",
       "      <td>-0.592287</td>\n",
       "      <td>0.262810</td>\n",
       "      <td>1.428176</td>\n",
       "      <td>-0.517639</td>\n",
       "      <td>1.020955</td>\n",
       "      <td>0.458956</td>\n",
       "      <td>...</td>\n",
       "      <td>-0.410663</td>\n",
       "      <td>0.457986</td>\n",
       "      <td>1.503370</td>\n",
       "      <td>0.161326</td>\n",
       "      <td>-1.314958</td>\n",
       "      <td>-1.061195</td>\n",
       "      <td>0.612621</td>\n",
       "      <td>0.019614</td>\n",
       "      <td>-0.026213</td>\n",
       "      <td>12.99</td>\n",
       "    </tr>\n",
       "    <tr>\n",
       "      <th>87076</th>\n",
       "      <td>61528.0</td>\n",
       "      <td>1.197534</td>\n",
       "      <td>-0.282696</td>\n",
       "      <td>0.311995</td>\n",
       "      <td>-0.146669</td>\n",
       "      <td>-0.282471</td>\n",
       "      <td>0.175044</td>\n",
       "      <td>-0.391227</td>\n",
       "      <td>0.096543</td>\n",
       "      <td>0.515870</td>\n",
       "      <td>...</td>\n",
       "      <td>0.025315</td>\n",
       "      <td>-0.167788</td>\n",
       "      <td>-0.561442</td>\n",
       "      <td>0.006376</td>\n",
       "      <td>-0.886595</td>\n",
       "      <td>0.055261</td>\n",
       "      <td>0.908591</td>\n",
       "      <td>-0.053409</td>\n",
       "      <td>0.009644</td>\n",
       "      <td>50.99</td>\n",
       "    </tr>\n",
       "    <tr>\n",
       "      <th>158468</th>\n",
       "      <td>111296.0</td>\n",
       "      <td>1.791378</td>\n",
       "      <td>-0.494993</td>\n",
       "      <td>-1.073690</td>\n",
       "      <td>0.544328</td>\n",
       "      <td>0.167658</td>\n",
       "      <td>0.211289</td>\n",
       "      <td>-0.217308</td>\n",
       "      <td>-0.059904</td>\n",
       "      <td>1.760831</td>\n",
       "      <td>...</td>\n",
       "      <td>0.044248</td>\n",
       "      <td>-0.089158</td>\n",
       "      <td>-0.172521</td>\n",
       "      <td>0.099925</td>\n",
       "      <td>0.191802</td>\n",
       "      <td>-0.225332</td>\n",
       "      <td>0.154041</td>\n",
       "      <td>-0.093246</td>\n",
       "      <td>-0.046722</td>\n",
       "      <td>124.90</td>\n",
       "    </tr>\n",
       "    <tr>\n",
       "      <th>239385</th>\n",
       "      <td>150085.0</td>\n",
       "      <td>-0.865930</td>\n",
       "      <td>-0.908236</td>\n",
       "      <td>-0.004228</td>\n",
       "      <td>-0.349912</td>\n",
       "      <td>2.668875</td>\n",
       "      <td>0.290483</td>\n",
       "      <td>-0.076703</td>\n",
       "      <td>0.139302</td>\n",
       "      <td>-0.052554</td>\n",
       "      <td>...</td>\n",
       "      <td>-0.082846</td>\n",
       "      <td>-0.111517</td>\n",
       "      <td>-0.106735</td>\n",
       "      <td>0.168330</td>\n",
       "      <td>-1.609389</td>\n",
       "      <td>-1.104362</td>\n",
       "      <td>0.218380</td>\n",
       "      <td>-0.176885</td>\n",
       "      <td>-0.011509</td>\n",
       "      <td>9.99</td>\n",
       "    </tr>\n",
       "    <tr>\n",
       "      <th>37501</th>\n",
       "      <td>38983.0</td>\n",
       "      <td>1.062990</td>\n",
       "      <td>0.287169</td>\n",
       "      <td>0.802472</td>\n",
       "      <td>2.527032</td>\n",
       "      <td>-0.159516</td>\n",
       "      <td>0.335426</td>\n",
       "      <td>-0.084090</td>\n",
       "      <td>0.140065</td>\n",
       "      <td>-0.560312</td>\n",
       "      <td>...</td>\n",
       "      <td>-0.058111</td>\n",
       "      <td>-0.234771</td>\n",
       "      <td>-0.672097</td>\n",
       "      <td>-0.003557</td>\n",
       "      <td>-0.025221</td>\n",
       "      <td>0.384857</td>\n",
       "      <td>-0.181200</td>\n",
       "      <td>-0.000477</td>\n",
       "      <td>0.019982</td>\n",
       "      <td>41.71</td>\n",
       "    </tr>\n",
       "    <tr>\n",
       "      <th>...</th>\n",
       "      <td>...</td>\n",
       "      <td>...</td>\n",
       "      <td>...</td>\n",
       "      <td>...</td>\n",
       "      <td>...</td>\n",
       "      <td>...</td>\n",
       "      <td>...</td>\n",
       "      <td>...</td>\n",
       "      <td>...</td>\n",
       "      <td>...</td>\n",
       "      <td>...</td>\n",
       "      <td>...</td>\n",
       "      <td>...</td>\n",
       "      <td>...</td>\n",
       "      <td>...</td>\n",
       "      <td>...</td>\n",
       "      <td>...</td>\n",
       "      <td>...</td>\n",
       "      <td>...</td>\n",
       "      <td>...</td>\n",
       "      <td>...</td>\n",
       "    </tr>\n",
       "    <tr>\n",
       "      <th>53604</th>\n",
       "      <td>46066.0</td>\n",
       "      <td>-6.428474</td>\n",
       "      <td>4.776089</td>\n",
       "      <td>-1.349781</td>\n",
       "      <td>-0.878455</td>\n",
       "      <td>-1.685644</td>\n",
       "      <td>-1.348752</td>\n",
       "      <td>-0.248102</td>\n",
       "      <td>0.958499</td>\n",
       "      <td>2.403686</td>\n",
       "      <td>...</td>\n",
       "      <td>1.269077</td>\n",
       "      <td>-0.743293</td>\n",
       "      <td>-1.824342</td>\n",
       "      <td>0.249441</td>\n",
       "      <td>0.255810</td>\n",
       "      <td>0.685370</td>\n",
       "      <td>-0.190488</td>\n",
       "      <td>-0.545176</td>\n",
       "      <td>0.481628</td>\n",
       "      <td>4.25</td>\n",
       "    </tr>\n",
       "    <tr>\n",
       "      <th>149120</th>\n",
       "      <td>90631.0</td>\n",
       "      <td>-0.244347</td>\n",
       "      <td>1.710891</td>\n",
       "      <td>0.634045</td>\n",
       "      <td>2.935377</td>\n",
       "      <td>0.891129</td>\n",
       "      <td>-0.072653</td>\n",
       "      <td>1.394038</td>\n",
       "      <td>-0.388674</td>\n",
       "      <td>-0.576223</td>\n",
       "      <td>...</td>\n",
       "      <td>-0.310411</td>\n",
       "      <td>0.185175</td>\n",
       "      <td>0.738516</td>\n",
       "      <td>-0.160196</td>\n",
       "      <td>-0.060827</td>\n",
       "      <td>-0.148065</td>\n",
       "      <td>-0.004069</td>\n",
       "      <td>-0.215937</td>\n",
       "      <td>0.011080</td>\n",
       "      <td>67.58</td>\n",
       "    </tr>\n",
       "    <tr>\n",
       "      <th>208563</th>\n",
       "      <td>137172.0</td>\n",
       "      <td>-1.644147</td>\n",
       "      <td>0.233266</td>\n",
       "      <td>1.953632</td>\n",
       "      <td>0.955745</td>\n",
       "      <td>-0.024668</td>\n",
       "      <td>0.182269</td>\n",
       "      <td>-0.768501</td>\n",
       "      <td>0.919966</td>\n",
       "      <td>-0.194545</td>\n",
       "      <td>...</td>\n",
       "      <td>0.302595</td>\n",
       "      <td>0.152775</td>\n",
       "      <td>0.142587</td>\n",
       "      <td>-0.303602</td>\n",
       "      <td>-0.384377</td>\n",
       "      <td>0.373661</td>\n",
       "      <td>-0.436179</td>\n",
       "      <td>0.257688</td>\n",
       "      <td>-0.051389</td>\n",
       "      <td>17.00</td>\n",
       "    </tr>\n",
       "    <tr>\n",
       "      <th>118338</th>\n",
       "      <td>75042.0</td>\n",
       "      <td>1.184960</td>\n",
       "      <td>0.167625</td>\n",
       "      <td>0.468725</td>\n",
       "      <td>0.580127</td>\n",
       "      <td>-0.281259</td>\n",
       "      <td>-0.502450</td>\n",
       "      <td>0.023871</td>\n",
       "      <td>-0.085029</td>\n",
       "      <td>-0.002033</td>\n",
       "      <td>...</td>\n",
       "      <td>-0.072716</td>\n",
       "      <td>-0.216591</td>\n",
       "      <td>-0.617740</td>\n",
       "      <td>0.148533</td>\n",
       "      <td>0.089864</td>\n",
       "      <td>0.147990</td>\n",
       "      <td>0.120958</td>\n",
       "      <td>-0.014075</td>\n",
       "      <td>0.019256</td>\n",
       "      <td>18.65</td>\n",
       "    </tr>\n",
       "    <tr>\n",
       "      <th>112440</th>\n",
       "      <td>72651.0</td>\n",
       "      <td>-0.901492</td>\n",
       "      <td>0.131350</td>\n",
       "      <td>2.810732</td>\n",
       "      <td>-0.245726</td>\n",
       "      <td>-0.053972</td>\n",
       "      <td>-0.131562</td>\n",
       "      <td>0.253240</td>\n",
       "      <td>0.050321</td>\n",
       "      <td>0.424390</td>\n",
       "      <td>...</td>\n",
       "      <td>0.043442</td>\n",
       "      <td>0.024295</td>\n",
       "      <td>0.275216</td>\n",
       "      <td>-0.059143</td>\n",
       "      <td>0.428431</td>\n",
       "      <td>-0.145761</td>\n",
       "      <td>0.134880</td>\n",
       "      <td>-0.090778</td>\n",
       "      <td>-0.111626</td>\n",
       "      <td>28.75</td>\n",
       "    </tr>\n",
       "  </tbody>\n",
       "</table>\n",
       "<p>59809 rows × 30 columns</p>\n",
       "</div>"
      ],
      "text/plain": [
       "            Time        V1        V2        V3        V4        V5        V6  \\\n",
       "192814  129861.0 -0.269660  0.312709  0.392943 -0.592287  0.262810  1.428176   \n",
       "87076    61528.0  1.197534 -0.282696  0.311995 -0.146669 -0.282471  0.175044   \n",
       "158468  111296.0  1.791378 -0.494993 -1.073690  0.544328  0.167658  0.211289   \n",
       "239385  150085.0 -0.865930 -0.908236 -0.004228 -0.349912  2.668875  0.290483   \n",
       "37501    38983.0  1.062990  0.287169  0.802472  2.527032 -0.159516  0.335426   \n",
       "...          ...       ...       ...       ...       ...       ...       ...   \n",
       "53604    46066.0 -6.428474  4.776089 -1.349781 -0.878455 -1.685644 -1.348752   \n",
       "149120   90631.0 -0.244347  1.710891  0.634045  2.935377  0.891129 -0.072653   \n",
       "208563  137172.0 -1.644147  0.233266  1.953632  0.955745 -0.024668  0.182269   \n",
       "118338   75042.0  1.184960  0.167625  0.468725  0.580127 -0.281259 -0.502450   \n",
       "112440   72651.0 -0.901492  0.131350  2.810732 -0.245726 -0.053972 -0.131562   \n",
       "\n",
       "              V7        V8        V9  ...       V20       V21       V22  \\\n",
       "192814 -0.517639  1.020955  0.458956  ... -0.410663  0.457986  1.503370   \n",
       "87076  -0.391227  0.096543  0.515870  ...  0.025315 -0.167788 -0.561442   \n",
       "158468 -0.217308 -0.059904  1.760831  ...  0.044248 -0.089158 -0.172521   \n",
       "239385 -0.076703  0.139302 -0.052554  ... -0.082846 -0.111517 -0.106735   \n",
       "37501  -0.084090  0.140065 -0.560312  ... -0.058111 -0.234771 -0.672097   \n",
       "...          ...       ...       ...  ...       ...       ...       ...   \n",
       "53604  -0.248102  0.958499  2.403686  ...  1.269077 -0.743293 -1.824342   \n",
       "149120  1.394038 -0.388674 -0.576223  ... -0.310411  0.185175  0.738516   \n",
       "208563 -0.768501  0.919966 -0.194545  ...  0.302595  0.152775  0.142587   \n",
       "118338  0.023871 -0.085029 -0.002033  ... -0.072716 -0.216591 -0.617740   \n",
       "112440  0.253240  0.050321  0.424390  ...  0.043442  0.024295  0.275216   \n",
       "\n",
       "             V23       V24       V25       V26       V27       V28  Amount  \n",
       "192814  0.161326 -1.314958 -1.061195  0.612621  0.019614 -0.026213   12.99  \n",
       "87076   0.006376 -0.886595  0.055261  0.908591 -0.053409  0.009644   50.99  \n",
       "158468  0.099925  0.191802 -0.225332  0.154041 -0.093246 -0.046722  124.90  \n",
       "239385  0.168330 -1.609389 -1.104362  0.218380 -0.176885 -0.011509    9.99  \n",
       "37501  -0.003557 -0.025221  0.384857 -0.181200 -0.000477  0.019982   41.71  \n",
       "...          ...       ...       ...       ...       ...       ...     ...  \n",
       "53604   0.249441  0.255810  0.685370 -0.190488 -0.545176  0.481628    4.25  \n",
       "149120 -0.160196 -0.060827 -0.148065 -0.004069 -0.215937  0.011080   67.58  \n",
       "208563 -0.303602 -0.384377  0.373661 -0.436179  0.257688 -0.051389   17.00  \n",
       "118338  0.148533  0.089864  0.147990  0.120958 -0.014075  0.019256   18.65  \n",
       "112440 -0.059143  0.428431 -0.145761  0.134880 -0.090778 -0.111626   28.75  \n",
       "\n",
       "[59809 rows x 30 columns]"
      ]
     },
     "execution_count": 59,
     "metadata": {},
     "output_type": "execute_result"
    }
   ],
   "source": [
    "X_train"
   ]
  },
  {
   "cell_type": "markdown",
   "id": "6c4ddabf",
   "metadata": {},
   "source": [
    "# SVC"
   ]
  },
  {
   "cell_type": "code",
   "execution_count": 60,
   "id": "nuclear-hotel",
   "metadata": {},
   "outputs": [
    {
     "data": {
      "text/plain": [
       "SVC(random_state=10)"
      ]
     },
     "execution_count": 60,
     "metadata": {},
     "output_type": "execute_result"
    }
   ],
   "source": [
    "classifier = SVC(random_state=10)  \n",
    "classifier.fit(X_train, y_train) "
   ]
  },
  {
   "cell_type": "code",
   "execution_count": 61,
   "id": "impossible-conclusion",
   "metadata": {},
   "outputs": [],
   "source": [
    "y_pred = classifier.predict(X_test)"
   ]
  },
  {
   "cell_type": "code",
   "execution_count": 62,
   "id": "joined-monitor",
   "metadata": {},
   "outputs": [
    {
     "name": "stdout",
     "output_type": "stream",
     "text": [
      "0.9982444505130106\n",
      "0.0\n",
      "0.0\n"
     ]
    },
    {
     "name": "stderr",
     "output_type": "stream",
     "text": [
      "c:\\program files\\python36\\lib\\site-packages\\sklearn\\metrics\\_classification.py:1248: UndefinedMetricWarning: Precision is ill-defined and being set to 0.0 due to no predicted samples. Use `zero_division` parameter to control this behavior.\n",
      "  _warn_prf(average, modifier, msg_start, len(result))\n"
     ]
    }
   ],
   "source": [
    "svmc = accuracy_score(y_test, y_pred)\n",
    "psvmc = precision_score(y_test, y_pred)\n",
    "rsvmc= recall_score(y_test,y_pred)\n",
    "print(svmc)\n",
    "print(psvmc)\n",
    "print(rsvmc)"
   ]
  },
  {
   "cell_type": "code",
   "execution_count": 63,
   "id": "hourly-vegetarian",
   "metadata": {},
   "outputs": [],
   "source": [
    "from sklearn.ensemble import RandomForestClassifier  "
   ]
  },
  {
   "cell_type": "code",
   "execution_count": 64,
   "id": "cleared-moment",
   "metadata": {},
   "outputs": [
    {
     "data": {
      "text/plain": [
       "RandomForestClassifier()"
      ]
     },
     "execution_count": 64,
     "metadata": {},
     "output_type": "execute_result"
    }
   ],
   "source": [
    "rf = RandomForestClassifier()\n",
    "rf.fit(X_train,y_train)"
   ]
  },
  {
   "cell_type": "code",
   "execution_count": 65,
   "id": "specialized-vatican",
   "metadata": {},
   "outputs": [],
   "source": [
    "y_preds= rf.predict(X_test)  "
   ]
  },
  {
   "cell_type": "code",
   "execution_count": 66,
   "id": "third-arthur",
   "metadata": {},
   "outputs": [
    {
     "name": "stdout",
     "output_type": "stream",
     "text": [
      "0.9993758046268482\n",
      "0.8717948717948718\n",
      "0.7555555555555555\n"
     ]
    }
   ],
   "source": [
    "rfc = accuracy_score(y_test,y_preds)\n",
    "prfc= precision_score(y_test, y_preds)\n",
    "rrfc = recall_score(y_test,y_preds)\n",
    "print(rfc)\n",
    "print(prfc)\n",
    "print(rrfc)"
   ]
  },
  {
   "cell_type": "code",
   "execution_count": 67,
   "id": "excellent-stomach",
   "metadata": {},
   "outputs": [],
   "source": [
    "from sklearn.tree import DecisionTreeClassifier "
   ]
  },
  {
   "cell_type": "code",
   "execution_count": 75,
   "id": "static-bryan",
   "metadata": {},
   "outputs": [
    {
     "data": {
      "text/plain": [
       "DecisionTreeClassifier(random_state=10)"
      ]
     },
     "execution_count": 75,
     "metadata": {},
     "output_type": "execute_result"
    }
   ],
   "source": [
    "dt = DecisionTreeClassifier(random_state=10)\n",
    "dt.fit(X_train,y_train)"
   ]
  },
  {
   "cell_type": "code",
   "execution_count": 76,
   "id": "electric-liver",
   "metadata": {},
   "outputs": [],
   "source": [
    "asd =dt.predict(X_test)"
   ]
  },
  {
   "cell_type": "code",
   "execution_count": 77,
   "id": "choice-tiffany",
   "metadata": {},
   "outputs": [
    {
     "name": "stdout",
     "output_type": "stream",
     "text": [
      "0.9992587679943823\n",
      "0.782608695652174\n",
      "0.8\n"
     ]
    }
   ],
   "source": [
    "dtc = accuracy_score(y_test,asd)\n",
    "pdtc= precision_score(y_test, asd)\n",
    "rdtc = recall_score(y_test,asd)\n",
    "print(dtc)\n",
    "print(pdtc)\n",
    "print(rdtc)"
   ]
  },
  {
   "cell_type": "code",
   "execution_count": 78,
   "id": "bc04d2e3",
   "metadata": {},
   "outputs": [],
   "source": [
    "from sklearn.neighbors import KNeighborsClassifier  "
   ]
  },
  {
   "cell_type": "code",
   "execution_count": 83,
   "id": "c92aaa7b",
   "metadata": {},
   "outputs": [
    {
     "data": {
      "text/plain": [
       "KNeighborsClassifier(n_neighbors=2)"
      ]
     },
     "execution_count": 83,
     "metadata": {},
     "output_type": "execute_result"
    }
   ],
   "source": [
    "knnc = KNeighborsClassifier(n_neighbors=2)\n",
    "knnc.fit(X_train,y_train)"
   ]
  },
  {
   "cell_type": "code",
   "execution_count": 84,
   "id": "3b3630c2",
   "metadata": {},
   "outputs": [],
   "source": [
    "knnp= knnc.predict(X_test)"
   ]
  },
  {
   "cell_type": "code",
   "execution_count": 85,
   "id": "8887a912",
   "metadata": {},
   "outputs": [
    {
     "name": "stdout",
     "output_type": "stream",
     "text": [
      "0.9982834627238325\n",
      "0.6666666666666666\n",
      "0.044444444444444446\n"
     ]
    }
   ],
   "source": [
    "knna = accuracy_score(y_test,knnp)\n",
    "pknna= precision_score(y_test, knnp)\n",
    "rknna = recall_score(y_test,knnp)\n",
    "print(knna)\n",
    "print(pknna)\n",
    "print(rknna)"
   ]
  },
  {
   "cell_type": "code",
   "execution_count": 86,
   "id": "dominican-music",
   "metadata": {},
   "outputs": [
    {
     "data": {
      "text/html": [
       "<div>\n",
       "<style scoped>\n",
       "    .dataframe tbody tr th:only-of-type {\n",
       "        vertical-align: middle;\n",
       "    }\n",
       "\n",
       "    .dataframe tbody tr th {\n",
       "        vertical-align: top;\n",
       "    }\n",
       "\n",
       "    .dataframe thead th {\n",
       "        text-align: right;\n",
       "    }\n",
       "</style>\n",
       "<table border=\"1\" class=\"dataframe\">\n",
       "  <thead>\n",
       "    <tr style=\"text-align: right;\">\n",
       "      <th></th>\n",
       "      <th>Models</th>\n",
       "      <th>Accuracy</th>\n",
       "      <th>Precision</th>\n",
       "      <th>Recall</th>\n",
       "    </tr>\n",
       "  </thead>\n",
       "  <tbody>\n",
       "    <tr>\n",
       "      <th>0</th>\n",
       "      <td>SVM</td>\n",
       "      <td>99.824445</td>\n",
       "      <td>0.000000</td>\n",
       "      <td>0.000000</td>\n",
       "    </tr>\n",
       "    <tr>\n",
       "      <th>1</th>\n",
       "      <td>Random Forest</td>\n",
       "      <td>99.937580</td>\n",
       "      <td>87.179487</td>\n",
       "      <td>75.555556</td>\n",
       "    </tr>\n",
       "    <tr>\n",
       "      <th>2</th>\n",
       "      <td>DecisionTree</td>\n",
       "      <td>99.925877</td>\n",
       "      <td>78.260870</td>\n",
       "      <td>80.000000</td>\n",
       "    </tr>\n",
       "    <tr>\n",
       "      <th>3</th>\n",
       "      <td>Knn</td>\n",
       "      <td>99.828346</td>\n",
       "      <td>66.666667</td>\n",
       "      <td>4.444444</td>\n",
       "    </tr>\n",
       "  </tbody>\n",
       "</table>\n",
       "</div>"
      ],
      "text/plain": [
       "          Models   Accuracy  Precision     Recall\n",
       "0            SVM  99.824445   0.000000   0.000000\n",
       "1  Random Forest  99.937580  87.179487  75.555556\n",
       "2   DecisionTree  99.925877  78.260870  80.000000\n",
       "3            Knn  99.828346  66.666667   4.444444"
      ]
     },
     "execution_count": 86,
     "metadata": {},
     "output_type": "execute_result"
    }
   ],
   "source": [
    "graph = pd.DataFrame({'Models':['SVM','Random Forest','DecisionTree','Knn'],'Accuracy':[svmc*100,rfc*100,dtc*100,knna*100],'Precision':[psvmc*100,prfc*100,pdtc*100,pknna*100],\n",
    "                      'Recall':[rsvmc*100,rrfc*100,rdtc*100,rknna*100]})\n",
    "graph"
   ]
  },
  {
   "cell_type": "code",
   "execution_count": 87,
   "id": "d5ff386c",
   "metadata": {},
   "outputs": [
    {
     "data": {
      "text/plain": [
       "[99.82444505130105, 99.93758046268482, 99.92587679943823, 99.82834627238326]"
      ]
     },
     "execution_count": 87,
     "metadata": {},
     "output_type": "execute_result"
    }
   ],
   "source": [
    "Accuracy= [svmc*100,rfc*100,dtc*100,knna*100]\n",
    "Accuracy"
   ]
  },
  {
   "cell_type": "code",
   "execution_count": 88,
   "id": "b201d8ec",
   "metadata": {},
   "outputs": [
    {
     "data": {
      "text/plain": [
       "[0.0, 87.17948717948718, 78.26086956521739, 66.66666666666666]"
      ]
     },
     "execution_count": 88,
     "metadata": {},
     "output_type": "execute_result"
    }
   ],
   "source": [
    "Precision=[psvmc*100,prfc*100,pdtc*100,pknna*100]\n",
    "Precision"
   ]
  },
  {
   "cell_type": "code",
   "execution_count": 89,
   "id": "d58f9642",
   "metadata": {},
   "outputs": [
    {
     "data": {
      "text/plain": [
       "[0.0, 75.55555555555556, 80.0, 4.444444444444445]"
      ]
     },
     "execution_count": 89,
     "metadata": {},
     "output_type": "execute_result"
    }
   ],
   "source": [
    "Recall=[rsvmc*100,rrfc*100,rdtc*100,rknna*100]\n",
    "Recall"
   ]
  },
  {
   "cell_type": "code",
   "execution_count": 90,
   "id": "affecting-feedback",
   "metadata": {},
   "outputs": [
    {
     "data": {
      "image/png": "[encoded data removed]",
      "text/plain": [
       "<Figure size 720x432 with 1 Axes>"
      ]
     },
     "metadata": {
      "needs_background": "light"
     },
     "output_type": "display_data"
    }
   ],
   "source": [
    "plt.figure(figsize = (10,6))\n",
    "sns.barplot(y = graph.Precision,x = graph.Models)\n",
    "plt.xticks(rotation = 'vertical')\n",
    "plt.show()"
   ]
  },
  {
   "cell_type": "code",
   "execution_count": 91,
   "id": "civil-auckland",
   "metadata": {},
   "outputs": [
    {
     "data": {
      "image/png": "[encoded data removed]",
      "text/plain": [
       "<Figure size 720x432 with 1 Axes>"
      ]
     },
     "metadata": {
      "needs_background": "light"
     },
     "output_type": "display_data"
    }
   ],
   "source": [
    "plt.figure(figsize = (10,6))\n",
    "sns.barplot(y = graph.Recall,x = graph.Models)\n",
    "plt.xticks(rotation = 'vertical')\n",
    "plt.show()"
   ]
  },
  {
   "cell_type": "code",
   "execution_count": 92,
   "id": "simplified-beast",
   "metadata": {},
   "outputs": [
    {
     "data": {
      "image/png": "[encoded data removed]",
      "text/plain": [
       "<Figure size 720x432 with 1 Axes>"
      ]
     },
     "metadata": {
      "needs_background": "light"
     },
     "output_type": "display_data"
    }
   ],
   "source": [
    "plt.figure(figsize = (10,6))\n",
    "sns.barplot(y = graph.Accuracy,x = graph.Models)\n",
    "plt.xticks(rotation = 'vertical')\n",
    "plt.show()"
   ]
  },
  {
   "cell_type": "code",
   "execution_count": 93,
   "id": "83f2a709",
   "metadata": {},
   "outputs": [
    {
     "data": {
      "image/png": "[encoded data removed]",
      "text/plain": [
       "<Figure size 864x576 with 1 Axes>"
      ]
     },
     "metadata": {
      "needs_background": "light"
     },
     "output_type": "display_data"
    }
   ],
   "source": [
    "# set width of bar\n",
    "barWidth = 0.25\n",
    "fig = plt.subplots(figsize =(12, 8))\n",
    " \n",
    "# set height of bar\n",
    "Accuracy= [svmc*100,rfc*100,dtc*100,knna*100]\n",
    "Precision=[psvmc*100,prfc*100,pdtc*100,pknna*100]\n",
    "Recall=[rsvmc*100,rrfc*100,rdtc*100,rknna*100]\n",
    " \n",
    "# Set position of bar on X axis\n",
    "br1 = np.arange(len(Accuracy))\n",
    "br2 = [x + barWidth for x in br1]\n",
    "br3 = [x + barWidth for x in br2]\n",
    " \n",
    "# Make the plot\n",
    "plt.bar(br1, Accuracy, color ='r', width = barWidth,\n",
    "        edgecolor ='grey', label ='Accuracy')\n",
    "plt.bar(br2, Precision, color ='g', width = barWidth,\n",
    "        edgecolor ='grey', label ='Precision')\n",
    "plt.bar(br3, Recall, color ='b', width = barWidth,\n",
    "        edgecolor ='grey', label ='Recall')\n",
    " \n",
    "# Adding Xticks\n",
    "# plt.xlabel('Branch', fontweight ='bold', fontsize = 15)\n",
    "# plt.ylabel('Students passed', fontweight ='bold', fontsize = 15)\n",
    "\n",
    "\n",
    "plt.xticks([r + barWidth for r in range(len(Accuracy))],['SVC', 'RandomForestClassifier', 'DecisionTreeClassifier', 'KNeighborsClassifier'])\n",
    "plt.grid(color = 'grey', linestyle = '--', linewidth = 0.3)\n",
    "plt.legend()\n",
    "plt.show()"
   ]
  },
  {
   "cell_type": "markdown",
   "id": "214db667",
   "metadata": {},
   "source": [
    "# ANN"
   ]
  },
  {
   "cell_type": "code",
   "execution_count": 94,
   "id": "dcaa88d7",
   "metadata": {},
   "outputs": [],
   "source": [
    "from tensorflow.keras.models import Sequential\n",
    "from tensorflow.keras.layers import Dense\n",
    "import tensorflow as tf"
   ]
  },
  {
   "cell_type": "code",
   "execution_count": 95,
   "id": "logical-garage",
   "metadata": {},
   "outputs": [],
   "source": [
    "x_train = tf.convert_to_tensor(X_train, dtype=tf.float32)\n",
    "y_train = tf.convert_to_tensor(y_train, dtype=tf.float32)"
   ]
  },
  {
   "cell_type": "code",
   "execution_count": 96,
   "id": "documentary-intermediate",
   "metadata": {},
   "outputs": [],
   "source": [
    "x_test = tf.convert_to_tensor(X_test, dtype=tf.float32)\n",
    "y_test = tf.convert_to_tensor(y_test, dtype=tf.float32)"
   ]
  },
  {
   "cell_type": "code",
   "execution_count": 97,
   "id": "54b4ab67",
   "metadata": {},
   "outputs": [],
   "source": [
    "model = Sequential()\n",
    "model.add(Dense(30, activation='relu'))\n",
    "model.add(Dense(20, activation='relu'))\n",
    "model.add(Dense(1, activation='softmax'))"
   ]
  },
  {
   "cell_type": "code",
   "execution_count": 98,
   "id": "5f83429a",
   "metadata": {},
   "outputs": [],
   "source": [
    "model.compile(optimizer='adam', loss='binary_crossentropy', metrics=['accuracy'])"
   ]
  },
  {
   "cell_type": "code",
   "execution_count": 99,
   "id": "37fe23a9",
   "metadata": {},
   "outputs": [
    {
     "name": "stdout",
     "output_type": "stream",
     "text": [
      "Epoch 1/5\n",
      "120/120 [==============================] - 1s 3ms/step - loss: 3062.3591 - accuracy: 0.0018 - val_loss: 11.0848 - val_accuracy: 0.0018\n",
      "Epoch 2/5\n",
      "120/120 [==============================] - 0s 1ms/step - loss: 10.5138 - accuracy: 0.0018 - val_loss: 10.2413 - val_accuracy: 0.0018\n",
      "Epoch 3/5\n",
      "120/120 [==============================] - ETA: 0s - loss: 9.9908 - accuracy: 0.0018     - 0s 1ms/step - loss: 9.5644 - accuracy: 0.0018 - val_loss: 9.1454 - val_accuracy: 0.0018\n",
      "Epoch 4/5\n",
      "120/120 [==============================] - 0s 1ms/step - loss: 8.4086 - accuracy: 0.0018 - val_loss: 7.8871 - val_accuracy: 0.0018\n",
      "Epoch 5/5\n",
      "120/120 [==============================] - 0s 2ms/step - loss: 7.0827 - accuracy: 0.0018 - val_loss: 6.4624 - val_accuracy: 0.0018\n"
     ]
    },
    {
     "data": {
      "text/plain": [
       "<keras.callbacks.History at 0x26c460d6ba8>"
      ]
     },
     "execution_count": 99,
     "metadata": {},
     "output_type": "execute_result"
    }
   ],
   "source": [
    "model.fit(X_train, y_train, batch_size=500, epochs=5,validation_data=(X_test, y_test))"
   ]
  },
  {
   "cell_type": "code",
   "execution_count": 100,
   "id": "e9042ceb",
   "metadata": {},
   "outputs": [],
   "source": [
    "abc=model.predict(X_test)\n",
    "# abc=np.argmax([model.precict_classes(X_test)])"
   ]
  },
  {
   "cell_type": "code",
   "execution_count": 101,
   "id": "554bb6f7",
   "metadata": {},
   "outputs": [
    {
     "data": {
      "text/plain": [
       "0.17555494869894275"
      ]
     },
     "execution_count": 101,
     "metadata": {},
     "output_type": "execute_result"
    }
   ],
   "source": [
    "acc =accuracy_score(abc,y_test)*100\n",
    "acc"
   ]
  },
  {
   "cell_type": "code",
   "execution_count": null,
   "id": "369ee601",
   "metadata": {},
   "outputs": [],
   "source": []
  },
  {
   "cell_type": "code",
   "execution_count": 102,
   "id": "mounted-hartford",
   "metadata": {},
   "outputs": [
    {
     "data": {
      "text/html": [
       "<div>\n",
       "<style scoped>\n",
       "    .dataframe tbody tr th:only-of-type {\n",
       "        vertical-align: middle;\n",
       "    }\n",
       "\n",
       "    .dataframe tbody tr th {\n",
       "        vertical-align: top;\n",
       "    }\n",
       "\n",
       "    .dataframe thead th {\n",
       "        text-align: right;\n",
       "    }\n",
       "</style>\n",
       "<table border=\"1\" class=\"dataframe\">\n",
       "  <thead>\n",
       "    <tr style=\"text-align: right;\">\n",
       "      <th></th>\n",
       "      <th>Time</th>\n",
       "      <th>V1</th>\n",
       "      <th>V2</th>\n",
       "      <th>V3</th>\n",
       "      <th>V4</th>\n",
       "      <th>V5</th>\n",
       "      <th>V6</th>\n",
       "      <th>V7</th>\n",
       "      <th>V8</th>\n",
       "      <th>V9</th>\n",
       "      <th>...</th>\n",
       "      <th>V21</th>\n",
       "      <th>V22</th>\n",
       "      <th>V23</th>\n",
       "      <th>V24</th>\n",
       "      <th>V25</th>\n",
       "      <th>V26</th>\n",
       "      <th>V27</th>\n",
       "      <th>V28</th>\n",
       "      <th>Amount</th>\n",
       "      <th>Class</th>\n",
       "    </tr>\n",
       "  </thead>\n",
       "  <tbody>\n",
       "    <tr>\n",
       "      <th>107163</th>\n",
       "      <td>70309.0</td>\n",
       "      <td>-0.382608</td>\n",
       "      <td>0.947206</td>\n",
       "      <td>1.691947</td>\n",
       "      <td>0.434948</td>\n",
       "      <td>-0.037888</td>\n",
       "      <td>-0.589335</td>\n",
       "      <td>0.612458</td>\n",
       "      <td>0.073153</td>\n",
       "      <td>-0.686599</td>\n",
       "      <td>...</td>\n",
       "      <td>0.080359</td>\n",
       "      <td>0.143413</td>\n",
       "      <td>-0.164020</td>\n",
       "      <td>0.488813</td>\n",
       "      <td>-0.011482</td>\n",
       "      <td>-0.507221</td>\n",
       "      <td>0.066454</td>\n",
       "      <td>0.055978</td>\n",
       "      <td>2.49</td>\n",
       "      <td>0</td>\n",
       "    </tr>\n",
       "    <tr>\n",
       "      <th>3240</th>\n",
       "      <td>2800.0</td>\n",
       "      <td>1.220318</td>\n",
       "      <td>-0.042804</td>\n",
       "      <td>0.714912</td>\n",
       "      <td>-0.133098</td>\n",
       "      <td>-0.788829</td>\n",
       "      <td>-0.802845</td>\n",
       "      <td>-0.268293</td>\n",
       "      <td>-0.060892</td>\n",
       "      <td>0.044871</td>\n",
       "      <td>...</td>\n",
       "      <td>-0.061198</td>\n",
       "      <td>-0.183541</td>\n",
       "      <td>0.101129</td>\n",
       "      <td>0.612228</td>\n",
       "      <td>0.076245</td>\n",
       "      <td>0.872267</td>\n",
       "      <td>-0.071596</td>\n",
       "      <td>0.002977</td>\n",
       "      <td>5.37</td>\n",
       "      <td>0</td>\n",
       "    </tr>\n",
       "    <tr>\n",
       "      <th>166539</th>\n",
       "      <td>118143.0</td>\n",
       "      <td>2.106341</td>\n",
       "      <td>-0.778178</td>\n",
       "      <td>-1.183580</td>\n",
       "      <td>-0.723059</td>\n",
       "      <td>-0.734125</td>\n",
       "      <td>-0.546742</td>\n",
       "      <td>-1.051381</td>\n",
       "      <td>0.059385</td>\n",
       "      <td>-0.061946</td>\n",
       "      <td>...</td>\n",
       "      <td>0.267587</td>\n",
       "      <td>0.800949</td>\n",
       "      <td>0.065660</td>\n",
       "      <td>-0.513824</td>\n",
       "      <td>-0.177062</td>\n",
       "      <td>-0.079558</td>\n",
       "      <td>0.022887</td>\n",
       "      <td>-0.026706</td>\n",
       "      <td>19.95</td>\n",
       "      <td>0</td>\n",
       "    </tr>\n",
       "    <tr>\n",
       "      <th>155629</th>\n",
       "      <td>105934.0</td>\n",
       "      <td>1.968633</td>\n",
       "      <td>-0.470783</td>\n",
       "      <td>-1.628310</td>\n",
       "      <td>-0.592380</td>\n",
       "      <td>1.899461</td>\n",
       "      <td>3.743100</td>\n",
       "      <td>-1.170932</td>\n",
       "      <td>0.926723</td>\n",
       "      <td>2.441717</td>\n",
       "      <td>...</td>\n",
       "      <td>-0.264293</td>\n",
       "      <td>-0.512595</td>\n",
       "      <td>0.394943</td>\n",
       "      <td>0.583637</td>\n",
       "      <td>-0.354341</td>\n",
       "      <td>-0.943201</td>\n",
       "      <td>0.050438</td>\n",
       "      <td>-0.037977</td>\n",
       "      <td>11.27</td>\n",
       "      <td>0</td>\n",
       "    </tr>\n",
       "    <tr>\n",
       "      <th>259189</th>\n",
       "      <td>159007.0</td>\n",
       "      <td>-5.892008</td>\n",
       "      <td>-7.133221</td>\n",
       "      <td>0.197904</td>\n",
       "      <td>1.813522</td>\n",
       "      <td>7.040782</td>\n",
       "      <td>-4.055840</td>\n",
       "      <td>-4.009626</td>\n",
       "      <td>0.212156</td>\n",
       "      <td>0.746039</td>\n",
       "      <td>...</td>\n",
       "      <td>-0.073299</td>\n",
       "      <td>0.169854</td>\n",
       "      <td>-0.656184</td>\n",
       "      <td>0.389210</td>\n",
       "      <td>-0.465689</td>\n",
       "      <td>-0.169486</td>\n",
       "      <td>0.837680</td>\n",
       "      <td>0.157256</td>\n",
       "      <td>187.13</td>\n",
       "      <td>0</td>\n",
       "    </tr>\n",
       "    <tr>\n",
       "      <th>...</th>\n",
       "      <td>...</td>\n",
       "      <td>...</td>\n",
       "      <td>...</td>\n",
       "      <td>...</td>\n",
       "      <td>...</td>\n",
       "      <td>...</td>\n",
       "      <td>...</td>\n",
       "      <td>...</td>\n",
       "      <td>...</td>\n",
       "      <td>...</td>\n",
       "      <td>...</td>\n",
       "      <td>...</td>\n",
       "      <td>...</td>\n",
       "      <td>...</td>\n",
       "      <td>...</td>\n",
       "      <td>...</td>\n",
       "      <td>...</td>\n",
       "      <td>...</td>\n",
       "      <td>...</td>\n",
       "      <td>...</td>\n",
       "      <td>...</td>\n",
       "    </tr>\n",
       "    <tr>\n",
       "      <th>179743</th>\n",
       "      <td>124224.0</td>\n",
       "      <td>-0.850294</td>\n",
       "      <td>0.564348</td>\n",
       "      <td>-0.558859</td>\n",
       "      <td>-0.584259</td>\n",
       "      <td>0.777521</td>\n",
       "      <td>-1.842088</td>\n",
       "      <td>0.543574</td>\n",
       "      <td>0.213921</td>\n",
       "      <td>-0.089183</td>\n",
       "      <td>...</td>\n",
       "      <td>0.348747</td>\n",
       "      <td>0.647274</td>\n",
       "      <td>-0.268899</td>\n",
       "      <td>-0.055721</td>\n",
       "      <td>0.219443</td>\n",
       "      <td>-0.239125</td>\n",
       "      <td>-0.079482</td>\n",
       "      <td>-0.097005</td>\n",
       "      <td>18.36</td>\n",
       "      <td>0</td>\n",
       "    </tr>\n",
       "    <tr>\n",
       "      <th>7761</th>\n",
       "      <td>10820.0</td>\n",
       "      <td>1.161761</td>\n",
       "      <td>-0.196479</td>\n",
       "      <td>1.452584</td>\n",
       "      <td>0.455138</td>\n",
       "      <td>-1.142185</td>\n",
       "      <td>-0.169109</td>\n",
       "      <td>-0.855188</td>\n",
       "      <td>0.083913</td>\n",
       "      <td>1.981777</td>\n",
       "      <td>...</td>\n",
       "      <td>-0.200189</td>\n",
       "      <td>-0.155091</td>\n",
       "      <td>0.083476</td>\n",
       "      <td>0.555640</td>\n",
       "      <td>0.047534</td>\n",
       "      <td>0.888950</td>\n",
       "      <td>-0.059419</td>\n",
       "      <td>0.002949</td>\n",
       "      <td>6.00</td>\n",
       "      <td>0</td>\n",
       "    </tr>\n",
       "    <tr>\n",
       "      <th>236195</th>\n",
       "      <td>148705.0</td>\n",
       "      <td>-1.739427</td>\n",
       "      <td>-1.295940</td>\n",
       "      <td>1.116197</td>\n",
       "      <td>-0.433753</td>\n",
       "      <td>0.739740</td>\n",
       "      <td>-0.348478</td>\n",
       "      <td>0.801885</td>\n",
       "      <td>-0.124216</td>\n",
       "      <td>0.591736</td>\n",
       "      <td>...</td>\n",
       "      <td>-0.237659</td>\n",
       "      <td>-0.100130</td>\n",
       "      <td>1.316304</td>\n",
       "      <td>-0.498673</td>\n",
       "      <td>-0.286907</td>\n",
       "      <td>-1.001364</td>\n",
       "      <td>0.149664</td>\n",
       "      <td>-0.215256</td>\n",
       "      <td>139.96</td>\n",
       "      <td>0</td>\n",
       "    </tr>\n",
       "    <tr>\n",
       "      <th>3909</th>\n",
       "      <td>3488.0</td>\n",
       "      <td>1.113660</td>\n",
       "      <td>-0.351455</td>\n",
       "      <td>0.889274</td>\n",
       "      <td>-0.309445</td>\n",
       "      <td>-0.915219</td>\n",
       "      <td>-0.240188</td>\n",
       "      <td>-0.579115</td>\n",
       "      <td>0.169108</td>\n",
       "      <td>0.262476</td>\n",
       "      <td>...</td>\n",
       "      <td>-0.017808</td>\n",
       "      <td>-0.130940</td>\n",
       "      <td>0.157308</td>\n",
       "      <td>0.286478</td>\n",
       "      <td>-0.205600</td>\n",
       "      <td>1.232844</td>\n",
       "      <td>-0.077588</td>\n",
       "      <td>0.003847</td>\n",
       "      <td>34.99</td>\n",
       "      <td>0</td>\n",
       "    </tr>\n",
       "    <tr>\n",
       "      <th>75185</th>\n",
       "      <td>55941.0</td>\n",
       "      <td>-6.205406</td>\n",
       "      <td>3.032527</td>\n",
       "      <td>-2.164289</td>\n",
       "      <td>0.333224</td>\n",
       "      <td>-2.595273</td>\n",
       "      <td>-1.145953</td>\n",
       "      <td>-2.252783</td>\n",
       "      <td>3.364434</td>\n",
       "      <td>-0.217679</td>\n",
       "      <td>...</td>\n",
       "      <td>-0.240097</td>\n",
       "      <td>-0.200721</td>\n",
       "      <td>0.786212</td>\n",
       "      <td>0.583925</td>\n",
       "      <td>0.666619</td>\n",
       "      <td>0.273328</td>\n",
       "      <td>-0.046360</td>\n",
       "      <td>0.272756</td>\n",
       "      <td>4.96</td>\n",
       "      <td>0</td>\n",
       "    </tr>\n",
       "  </tbody>\n",
       "</table>\n",
       "<p>85290 rows × 31 columns</p>\n",
       "</div>"
      ],
      "text/plain": [
       "            Time        V1        V2        V3        V4        V5        V6  \\\n",
       "107163   70309.0 -0.382608  0.947206  1.691947  0.434948 -0.037888 -0.589335   \n",
       "3240      2800.0  1.220318 -0.042804  0.714912 -0.133098 -0.788829 -0.802845   \n",
       "166539  118143.0  2.106341 -0.778178 -1.183580 -0.723059 -0.734125 -0.546742   \n",
       "155629  105934.0  1.968633 -0.470783 -1.628310 -0.592380  1.899461  3.743100   \n",
       "259189  159007.0 -5.892008 -7.133221  0.197904  1.813522  7.040782 -4.055840   \n",
       "...          ...       ...       ...       ...       ...       ...       ...   \n",
       "179743  124224.0 -0.850294  0.564348 -0.558859 -0.584259  0.777521 -1.842088   \n",
       "7761     10820.0  1.161761 -0.196479  1.452584  0.455138 -1.142185 -0.169109   \n",
       "236195  148705.0 -1.739427 -1.295940  1.116197 -0.433753  0.739740 -0.348478   \n",
       "3909      3488.0  1.113660 -0.351455  0.889274 -0.309445 -0.915219 -0.240188   \n",
       "75185    55941.0 -6.205406  3.032527 -2.164289  0.333224 -2.595273 -1.145953   \n",
       "\n",
       "              V7        V8        V9  ...       V21       V22       V23  \\\n",
       "107163  0.612458  0.073153 -0.686599  ...  0.080359  0.143413 -0.164020   \n",
       "3240   -0.268293 -0.060892  0.044871  ... -0.061198 -0.183541  0.101129   \n",
       "166539 -1.051381  0.059385 -0.061946  ...  0.267587  0.800949  0.065660   \n",
       "155629 -1.170932  0.926723  2.441717  ... -0.264293 -0.512595  0.394943   \n",
       "259189 -4.009626  0.212156  0.746039  ... -0.073299  0.169854 -0.656184   \n",
       "...          ...       ...       ...  ...       ...       ...       ...   \n",
       "179743  0.543574  0.213921 -0.089183  ...  0.348747  0.647274 -0.268899   \n",
       "7761   -0.855188  0.083913  1.981777  ... -0.200189 -0.155091  0.083476   \n",
       "236195  0.801885 -0.124216  0.591736  ... -0.237659 -0.100130  1.316304   \n",
       "3909   -0.579115  0.169108  0.262476  ... -0.017808 -0.130940  0.157308   \n",
       "75185  -2.252783  3.364434 -0.217679  ... -0.240097 -0.200721  0.786212   \n",
       "\n",
       "             V24       V25       V26       V27       V28  Amount  Class  \n",
       "107163  0.488813 -0.011482 -0.507221  0.066454  0.055978    2.49      0  \n",
       "3240    0.612228  0.076245  0.872267 -0.071596  0.002977    5.37      0  \n",
       "166539 -0.513824 -0.177062 -0.079558  0.022887 -0.026706   19.95      0  \n",
       "155629  0.583637 -0.354341 -0.943201  0.050438 -0.037977   11.27      0  \n",
       "259189  0.389210 -0.465689 -0.169486  0.837680  0.157256  187.13      0  \n",
       "...          ...       ...       ...       ...       ...     ...    ...  \n",
       "179743 -0.055721  0.219443 -0.239125 -0.079482 -0.097005   18.36      0  \n",
       "7761    0.555640  0.047534  0.888950 -0.059419  0.002949    6.00      0  \n",
       "236195 -0.498673 -0.286907 -1.001364  0.149664 -0.215256  139.96      0  \n",
       "3909    0.286478 -0.205600  1.232844 -0.077588  0.003847   34.99      0  \n",
       "75185   0.583925  0.666619  0.273328 -0.046360  0.272756    4.96      0  \n",
       "\n",
       "[85290 rows x 31 columns]"
      ]
     },
     "execution_count": 102,
     "metadata": {},
     "output_type": "execute_result"
    }
   ],
   "source": [
    "df[df['Class']==0]"
   ]
  },
  {
   "cell_type": "code",
   "execution_count": 103,
   "id": "ed36267c",
   "metadata": {},
   "outputs": [
    {
     "data": {
      "text/html": [
       "<div>\n",
       "<style scoped>\n",
       "    .dataframe tbody tr th:only-of-type {\n",
       "        vertical-align: middle;\n",
       "    }\n",
       "\n",
       "    .dataframe tbody tr th {\n",
       "        vertical-align: top;\n",
       "    }\n",
       "\n",
       "    .dataframe thead th {\n",
       "        text-align: right;\n",
       "    }\n",
       "</style>\n",
       "<table border=\"1\" class=\"dataframe\">\n",
       "  <thead>\n",
       "    <tr style=\"text-align: right;\">\n",
       "      <th></th>\n",
       "      <th>V10</th>\n",
       "      <th>V11</th>\n",
       "      <th>V12</th>\n",
       "      <th>V13</th>\n",
       "      <th>V14</th>\n",
       "      <th>V15</th>\n",
       "      <th>V16</th>\n",
       "      <th>V17</th>\n",
       "      <th>V18</th>\n",
       "      <th>V19</th>\n",
       "      <th>V20</th>\n",
       "    </tr>\n",
       "  </thead>\n",
       "  <tbody>\n",
       "    <tr>\n",
       "      <th>131272</th>\n",
       "      <td>0.269562</td>\n",
       "      <td>1.293418</td>\n",
       "      <td>0.933216</td>\n",
       "      <td>-0.135326</td>\n",
       "      <td>0.521484</td>\n",
       "      <td>0.386884</td>\n",
       "      <td>0.059869</td>\n",
       "      <td>0.306339</td>\n",
       "      <td>0.265052</td>\n",
       "      <td>0.223718</td>\n",
       "      <td>0.732852</td>\n",
       "    </tr>\n",
       "    <tr>\n",
       "      <th>77348</th>\n",
       "      <td>-4.881143</td>\n",
       "      <td>2.255147</td>\n",
       "      <td>-4.686387</td>\n",
       "      <td>0.652375</td>\n",
       "      <td>-6.174288</td>\n",
       "      <td>0.594380</td>\n",
       "      <td>-4.849692</td>\n",
       "      <td>-6.536521</td>\n",
       "      <td>-3.119094</td>\n",
       "      <td>1.715494</td>\n",
       "      <td>0.560478</td>\n",
       "    </tr>\n",
       "    <tr>\n",
       "      <th>167305</th>\n",
       "      <td>0.566680</td>\n",
       "      <td>4.315076</td>\n",
       "      <td>-4.938284</td>\n",
       "      <td>-1.105710</td>\n",
       "      <td>-8.490813</td>\n",
       "      <td>1.003626</td>\n",
       "      <td>-1.949123</td>\n",
       "      <td>-3.093013</td>\n",
       "      <td>0.124087</td>\n",
       "      <td>0.886747</td>\n",
       "      <td>-1.118687</td>\n",
       "    </tr>\n",
       "    <tr>\n",
       "      <th>199896</th>\n",
       "      <td>-3.739659</td>\n",
       "      <td>1.738124</td>\n",
       "      <td>-2.844449</td>\n",
       "      <td>0.765864</td>\n",
       "      <td>-4.799737</td>\n",
       "      <td>-0.011335</td>\n",
       "      <td>-2.693168</td>\n",
       "      <td>-3.166955</td>\n",
       "      <td>-1.067800</td>\n",
       "      <td>-0.559132</td>\n",
       "      <td>2.908374</td>\n",
       "    </tr>\n",
       "    <tr>\n",
       "      <th>189878</th>\n",
       "      <td>-2.297734</td>\n",
       "      <td>1.961481</td>\n",
       "      <td>-1.944441</td>\n",
       "      <td>-0.692559</td>\n",
       "      <td>-4.346348</td>\n",
       "      <td>-1.726929</td>\n",
       "      <td>-1.820405</td>\n",
       "      <td>-3.746490</td>\n",
       "      <td>-0.880399</td>\n",
       "      <td>0.267915</td>\n",
       "      <td>-2.642902</td>\n",
       "    </tr>\n",
       "    <tr>\n",
       "      <th>...</th>\n",
       "      <td>...</td>\n",
       "      <td>...</td>\n",
       "      <td>...</td>\n",
       "      <td>...</td>\n",
       "      <td>...</td>\n",
       "      <td>...</td>\n",
       "      <td>...</td>\n",
       "      <td>...</td>\n",
       "      <td>...</td>\n",
       "      <td>...</td>\n",
       "      <td>...</td>\n",
       "    </tr>\n",
       "    <tr>\n",
       "      <th>238466</th>\n",
       "      <td>0.398155</td>\n",
       "      <td>0.613868</td>\n",
       "      <td>-0.022561</td>\n",
       "      <td>0.452018</td>\n",
       "      <td>-2.969201</td>\n",
       "      <td>-0.964967</td>\n",
       "      <td>2.464450</td>\n",
       "      <td>0.671241</td>\n",
       "      <td>1.921021</td>\n",
       "      <td>-1.616927</td>\n",
       "      <td>-0.085579</td>\n",
       "    </tr>\n",
       "    <tr>\n",
       "      <th>42700</th>\n",
       "      <td>-13.386683</td>\n",
       "      <td>7.605559</td>\n",
       "      <td>-13.351815</td>\n",
       "      <td>0.827050</td>\n",
       "      <td>-14.979477</td>\n",
       "      <td>1.532813</td>\n",
       "      <td>-11.771497</td>\n",
       "      <td>-20.299217</td>\n",
       "      <td>-7.609110</td>\n",
       "      <td>3.809136</td>\n",
       "      <td>0.520732</td>\n",
       "    </tr>\n",
       "    <tr>\n",
       "      <th>215984</th>\n",
       "      <td>-5.112971</td>\n",
       "      <td>2.945621</td>\n",
       "      <td>-4.102127</td>\n",
       "      <td>-0.477203</td>\n",
       "      <td>-4.350434</td>\n",
       "      <td>0.000716</td>\n",
       "      <td>-5.037449</td>\n",
       "      <td>-8.078010</td>\n",
       "      <td>-3.457981</td>\n",
       "      <td>0.596696</td>\n",
       "      <td>0.285559</td>\n",
       "    </tr>\n",
       "    <tr>\n",
       "      <th>234632</th>\n",
       "      <td>-3.202436</td>\n",
       "      <td>1.991361</td>\n",
       "      <td>-3.986416</td>\n",
       "      <td>0.577207</td>\n",
       "      <td>-8.485795</td>\n",
       "      <td>-0.794782</td>\n",
       "      <td>-0.666134</td>\n",
       "      <td>-1.372629</td>\n",
       "      <td>-0.104313</td>\n",
       "      <td>-1.466911</td>\n",
       "      <td>0.313332</td>\n",
       "    </tr>\n",
       "    <tr>\n",
       "      <th>204064</th>\n",
       "      <td>-3.520128</td>\n",
       "      <td>2.074116</td>\n",
       "      <td>-3.010772</td>\n",
       "      <td>0.694978</td>\n",
       "      <td>-5.387831</td>\n",
       "      <td>1.778670</td>\n",
       "      <td>-2.935804</td>\n",
       "      <td>-2.285573</td>\n",
       "      <td>-0.237056</td>\n",
       "      <td>1.979747</td>\n",
       "      <td>1.141615</td>\n",
       "    </tr>\n",
       "  </tbody>\n",
       "</table>\n",
       "<p>152 rows × 11 columns</p>\n",
       "</div>"
      ],
      "text/plain": [
       "              V10       V11        V12       V13        V14       V15  \\\n",
       "131272   0.269562  1.293418   0.933216 -0.135326   0.521484  0.386884   \n",
       "77348   -4.881143  2.255147  -4.686387  0.652375  -6.174288  0.594380   \n",
       "167305   0.566680  4.315076  -4.938284 -1.105710  -8.490813  1.003626   \n",
       "199896  -3.739659  1.738124  -2.844449  0.765864  -4.799737 -0.011335   \n",
       "189878  -2.297734  1.961481  -1.944441 -0.692559  -4.346348 -1.726929   \n",
       "...           ...       ...        ...       ...        ...       ...   \n",
       "238466   0.398155  0.613868  -0.022561  0.452018  -2.969201 -0.964967   \n",
       "42700  -13.386683  7.605559 -13.351815  0.827050 -14.979477  1.532813   \n",
       "215984  -5.112971  2.945621  -4.102127 -0.477203  -4.350434  0.000716   \n",
       "234632  -3.202436  1.991361  -3.986416  0.577207  -8.485795 -0.794782   \n",
       "204064  -3.520128  2.074116  -3.010772  0.694978  -5.387831  1.778670   \n",
       "\n",
       "              V16        V17       V18       V19       V20  \n",
       "131272   0.059869   0.306339  0.265052  0.223718  0.732852  \n",
       "77348   -4.849692  -6.536521 -3.119094  1.715494  0.560478  \n",
       "167305  -1.949123  -3.093013  0.124087  0.886747 -1.118687  \n",
       "199896  -2.693168  -3.166955 -1.067800 -0.559132  2.908374  \n",
       "189878  -1.820405  -3.746490 -0.880399  0.267915 -2.642902  \n",
       "...           ...        ...       ...       ...       ...  \n",
       "238466   2.464450   0.671241  1.921021 -1.616927 -0.085579  \n",
       "42700  -11.771497 -20.299217 -7.609110  3.809136  0.520732  \n",
       "215984  -5.037449  -8.078010 -3.457981  0.596696  0.285559  \n",
       "234632  -0.666134  -1.372629 -0.104313 -1.466911  0.313332  \n",
       "204064  -2.935804  -2.285573 -0.237056  1.979747  1.141615  \n",
       "\n",
       "[152 rows x 11 columns]"
      ]
     },
     "execution_count": 103,
     "metadata": {},
     "output_type": "execute_result"
    }
   ],
   "source": [
    "df[df['Class']==1].iloc[:,10:21]"
   ]
  },
  {
   "cell_type": "code",
   "execution_count": 104,
   "id": "e48b628d",
   "metadata": {},
   "outputs": [],
   "source": [
    "s = [[60308.0,-0.957317,-3.729433,-1.130661,1.100066,-1.717646,-0.533478,1.488717,-0.349142,0.091474,-0.498225,1.111167,0.204622,-1.676933,0.960795,-0.286044,0.070022,0.007324,0.111324,0.159097,2.118664,0.647212,-0.694610,-1.055408,0.652652,0.015249,0.944112,-0.323468,0.179406,1142.00]]"
   ]
  },
  {
   "cell_type": "code",
   "execution_count": 105,
   "id": "0b700675",
   "metadata": {},
   "outputs": [],
   "source": [
    "d = [[14152.0,-4.710529,8.636214,-15.496222,10.313349,-4.351341,-3.322689,-10.788373,5.060381,-5.689311,-11.712187,11.152491,-16.558197,0.302645,-17.475921,-0.412393,-10.222203,-13.799148,-5.008585,1.162026,1.434240,1.990545,0.223785,0.554408,-1.204042,-0.450685,0.641836,1.605958,0.721644,1.00]]"
   ]
  },
  {
   "cell_type": "code",
   "execution_count": 106,
   "id": "seventh-fluid",
   "metadata": {},
   "outputs": [
    {
     "data": {
      "text/plain": [
       "array([1], dtype=int64)"
      ]
     },
     "execution_count": 106,
     "metadata": {},
     "output_type": "execute_result"
    }
   ],
   "source": [
    "asdf = rf.predict(d) \n",
    "asdf"
   ]
  },
  {
   "cell_type": "code",
   "execution_count": null,
   "id": "authentic-symposium",
   "metadata": {},
   "outputs": [],
   "source": []
  },
  {
   "cell_type": "code",
   "execution_count": 59,
   "id": "white-simon",
   "metadata": {},
   "outputs": [],
   "source": [
    "# pd.set_option(\"display.max_columns\", 50)"
   ]
  }
 ],
 "metadata": {
  "kernelspec": {
   "display_name": "Python 3",
   "language": "python",
   "name": "python3"
  },
  "language_info": {
   "codemirror_mode": {
    "name": "ipython",
    "version": 3
   },
   "file_extension": ".py",
   "mimetype": "text/x-python",
   "name": "python",
   "nbconvert_exporter": "python",
   "pygments_lexer": "ipython3",
   "version": "3.6.8"
  }
 },
 "nbformat": 4,
 "nbformat_minor": 5
}
