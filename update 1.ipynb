{
 "cells": [
  {
   "cell_type": "code",
   "execution_count": 298,
   "id": "played-monkey",
   "metadata": {},
   "outputs": [],
   "source": [
    "import numpy as np\n",
    "import pandas as pd\n",
    "pd.set_option(\"display.max_columns\", 50)"
   ]
  },
  {
   "cell_type": "code",
   "execution_count": 299,
   "id": "massive-spring",
   "metadata": {},
   "outputs": [],
   "source": [
    "df=pd.read_csv('X:\\CHANDRA MOULI\\creditcard.csv')"
   ]
  },
  {
   "cell_type": "code",
   "execution_count": 300,
   "id": "artificial-coupon",
   "metadata": {},
   "outputs": [
    {
     "data": {
      "text/plain": [
       "(284807, 31)"
      ]
     },
     "execution_count": 300,
     "metadata": {},
     "output_type": "execute_result"
    }
   ],
   "source": [
    "df.shape"
   ]
  },
  {
   "cell_type": "code",
   "execution_count": 301,
   "id": "horizontal-oasis",
   "metadata": {},
   "outputs": [],
   "source": [
    "df=df.sample(frac=0.3)"
   ]
  },
  {
   "cell_type": "code",
   "execution_count": 302,
   "id": "varied-iraqi",
   "metadata": {},
   "outputs": [
    {
     "data": {
      "text/html": [
       "<div>\n",
       "<style scoped>\n",
       "    .dataframe tbody tr th:only-of-type {\n",
       "        vertical-align: middle;\n",
       "    }\n",
       "\n",
       "    .dataframe tbody tr th {\n",
       "        vertical-align: top;\n",
       "    }\n",
       "\n",
       "    .dataframe thead th {\n",
       "        text-align: right;\n",
       "    }\n",
       "</style>\n",
       "<table border=\"1\" class=\"dataframe\">\n",
       "  <thead>\n",
       "    <tr style=\"text-align: right;\">\n",
       "      <th></th>\n",
       "      <th>Time</th>\n",
       "      <th>V1</th>\n",
       "      <th>V2</th>\n",
       "      <th>V3</th>\n",
       "      <th>V4</th>\n",
       "      <th>V5</th>\n",
       "      <th>V6</th>\n",
       "      <th>V7</th>\n",
       "      <th>V8</th>\n",
       "      <th>V9</th>\n",
       "      <th>V10</th>\n",
       "      <th>V11</th>\n",
       "      <th>V12</th>\n",
       "      <th>V13</th>\n",
       "      <th>V14</th>\n",
       "      <th>V15</th>\n",
       "      <th>V16</th>\n",
       "      <th>V17</th>\n",
       "      <th>V18</th>\n",
       "      <th>V19</th>\n",
       "      <th>V20</th>\n",
       "      <th>V21</th>\n",
       "      <th>V22</th>\n",
       "      <th>V23</th>\n",
       "      <th>V24</th>\n",
       "      <th>V25</th>\n",
       "      <th>V26</th>\n",
       "      <th>V27</th>\n",
       "      <th>V28</th>\n",
       "      <th>Amount</th>\n",
       "      <th>Class</th>\n",
       "    </tr>\n",
       "  </thead>\n",
       "  <tbody>\n",
       "    <tr>\n",
       "      <th>82554</th>\n",
       "      <td>59452.0</td>\n",
       "      <td>1.174468</td>\n",
       "      <td>0.596455</td>\n",
       "      <td>-0.496099</td>\n",
       "      <td>1.111245</td>\n",
       "      <td>0.463395</td>\n",
       "      <td>-0.268094</td>\n",
       "      <td>0.104468</td>\n",
       "      <td>0.077902</td>\n",
       "      <td>-0.287528</td>\n",
       "      <td>-0.547759</td>\n",
       "      <td>1.700645</td>\n",
       "      <td>0.394186</td>\n",
       "      <td>-0.399091</td>\n",
       "      <td>-1.072770</td>\n",
       "      <td>0.697006</td>\n",
       "      <td>0.609834</td>\n",
       "      <td>0.819345</td>\n",
       "      <td>0.782039</td>\n",
       "      <td>-0.568540</td>\n",
       "      <td>-0.126800</td>\n",
       "      <td>-0.013368</td>\n",
       "      <td>0.020386</td>\n",
       "      <td>-0.143604</td>\n",
       "      <td>-0.449619</td>\n",
       "      <td>0.622130</td>\n",
       "      <td>-0.293801</td>\n",
       "      <td>0.045570</td>\n",
       "      <td>0.039952</td>\n",
       "      <td>1.00</td>\n",
       "      <td>0</td>\n",
       "    </tr>\n",
       "    <tr>\n",
       "      <th>138271</th>\n",
       "      <td>82571.0</td>\n",
       "      <td>1.296854</td>\n",
       "      <td>-1.304506</td>\n",
       "      <td>0.322656</td>\n",
       "      <td>-1.222898</td>\n",
       "      <td>-1.631694</td>\n",
       "      <td>-0.925379</td>\n",
       "      <td>-0.767327</td>\n",
       "      <td>-0.318004</td>\n",
       "      <td>-1.916297</td>\n",
       "      <td>1.378665</td>\n",
       "      <td>-0.409840</td>\n",
       "      <td>-0.527307</td>\n",
       "      <td>1.284551</td>\n",
       "      <td>-0.475515</td>\n",
       "      <td>0.520546</td>\n",
       "      <td>-0.436767</td>\n",
       "      <td>0.453042</td>\n",
       "      <td>0.120661</td>\n",
       "      <td>-0.401077</td>\n",
       "      <td>-0.041751</td>\n",
       "      <td>0.067386</td>\n",
       "      <td>0.401067</td>\n",
       "      <td>-0.205932</td>\n",
       "      <td>0.430671</td>\n",
       "      <td>0.537555</td>\n",
       "      <td>-0.010384</td>\n",
       "      <td>0.014814</td>\n",
       "      <td>0.039754</td>\n",
       "      <td>129.85</td>\n",
       "      <td>0</td>\n",
       "    </tr>\n",
       "    <tr>\n",
       "      <th>95054</th>\n",
       "      <td>65148.0</td>\n",
       "      <td>0.173076</td>\n",
       "      <td>0.984206</td>\n",
       "      <td>0.668506</td>\n",
       "      <td>0.905634</td>\n",
       "      <td>-0.004652</td>\n",
       "      <td>-0.364979</td>\n",
       "      <td>0.729545</td>\n",
       "      <td>-0.281115</td>\n",
       "      <td>-0.597436</td>\n",
       "      <td>0.188728</td>\n",
       "      <td>-0.626567</td>\n",
       "      <td>0.338652</td>\n",
       "      <td>1.369869</td>\n",
       "      <td>0.062537</td>\n",
       "      <td>1.404494</td>\n",
       "      <td>-0.427687</td>\n",
       "      <td>-0.082106</td>\n",
       "      <td>-0.103250</td>\n",
       "      <td>1.752622</td>\n",
       "      <td>0.169297</td>\n",
       "      <td>-0.008547</td>\n",
       "      <td>0.096397</td>\n",
       "      <td>0.190094</td>\n",
       "      <td>-0.066855</td>\n",
       "      <td>-1.398732</td>\n",
       "      <td>0.200470</td>\n",
       "      <td>0.138851</td>\n",
       "      <td>0.236363</td>\n",
       "      <td>42.40</td>\n",
       "      <td>0</td>\n",
       "    </tr>\n",
       "    <tr>\n",
       "      <th>189437</th>\n",
       "      <td>128398.0</td>\n",
       "      <td>-1.319469</td>\n",
       "      <td>-0.007642</td>\n",
       "      <td>-2.080864</td>\n",
       "      <td>-1.106405</td>\n",
       "      <td>2.933874</td>\n",
       "      <td>-0.920205</td>\n",
       "      <td>2.020330</td>\n",
       "      <td>-0.456397</td>\n",
       "      <td>-0.124231</td>\n",
       "      <td>-2.079087</td>\n",
       "      <td>0.759251</td>\n",
       "      <td>-0.162871</td>\n",
       "      <td>0.036428</td>\n",
       "      <td>-3.133582</td>\n",
       "      <td>-0.969883</td>\n",
       "      <td>1.404368</td>\n",
       "      <td>0.854597</td>\n",
       "      <td>2.053333</td>\n",
       "      <td>-1.009617</td>\n",
       "      <td>-0.182519</td>\n",
       "      <td>-0.061919</td>\n",
       "      <td>0.247423</td>\n",
       "      <td>0.508877</td>\n",
       "      <td>-0.643400</td>\n",
       "      <td>0.166095</td>\n",
       "      <td>-0.840673</td>\n",
       "      <td>0.064158</td>\n",
       "      <td>-0.024343</td>\n",
       "      <td>144.79</td>\n",
       "      <td>0</td>\n",
       "    </tr>\n",
       "    <tr>\n",
       "      <th>217068</th>\n",
       "      <td>140747.0</td>\n",
       "      <td>1.756691</td>\n",
       "      <td>-1.043036</td>\n",
       "      <td>-1.333555</td>\n",
       "      <td>-0.563260</td>\n",
       "      <td>-0.520264</td>\n",
       "      <td>-0.670079</td>\n",
       "      <td>-0.120040</td>\n",
       "      <td>-0.085676</td>\n",
       "      <td>1.053374</td>\n",
       "      <td>-0.116364</td>\n",
       "      <td>0.505355</td>\n",
       "      <td>0.326505</td>\n",
       "      <td>-1.293281</td>\n",
       "      <td>0.620775</td>\n",
       "      <td>-0.028797</td>\n",
       "      <td>0.150078</td>\n",
       "      <td>-0.475101</td>\n",
       "      <td>0.211325</td>\n",
       "      <td>0.617167</td>\n",
       "      <td>0.058093</td>\n",
       "      <td>0.112808</td>\n",
       "      <td>0.078878</td>\n",
       "      <td>0.020071</td>\n",
       "      <td>-0.349884</td>\n",
       "      <td>-0.310964</td>\n",
       "      <td>0.837637</td>\n",
       "      <td>-0.124225</td>\n",
       "      <td>-0.057190</td>\n",
       "      <td>159.31</td>\n",
       "      <td>0</td>\n",
       "    </tr>\n",
       "  </tbody>\n",
       "</table>\n",
       "</div>"
      ],
      "text/plain": [
       "            Time        V1        V2        V3        V4        V5        V6  \\\n",
       "82554    59452.0  1.174468  0.596455 -0.496099  1.111245  0.463395 -0.268094   \n",
       "138271   82571.0  1.296854 -1.304506  0.322656 -1.222898 -1.631694 -0.925379   \n",
       "95054    65148.0  0.173076  0.984206  0.668506  0.905634 -0.004652 -0.364979   \n",
       "189437  128398.0 -1.319469 -0.007642 -2.080864 -1.106405  2.933874 -0.920205   \n",
       "217068  140747.0  1.756691 -1.043036 -1.333555 -0.563260 -0.520264 -0.670079   \n",
       "\n",
       "              V7        V8        V9       V10       V11       V12       V13  \\\n",
       "82554   0.104468  0.077902 -0.287528 -0.547759  1.700645  0.394186 -0.399091   \n",
       "138271 -0.767327 -0.318004 -1.916297  1.378665 -0.409840 -0.527307  1.284551   \n",
       "95054   0.729545 -0.281115 -0.597436  0.188728 -0.626567  0.338652  1.369869   \n",
       "189437  2.020330 -0.456397 -0.124231 -2.079087  0.759251 -0.162871  0.036428   \n",
       "217068 -0.120040 -0.085676  1.053374 -0.116364  0.505355  0.326505 -1.293281   \n",
       "\n",
       "             V14       V15       V16       V17       V18       V19       V20  \\\n",
       "82554  -1.072770  0.697006  0.609834  0.819345  0.782039 -0.568540 -0.126800   \n",
       "138271 -0.475515  0.520546 -0.436767  0.453042  0.120661 -0.401077 -0.041751   \n",
       "95054   0.062537  1.404494 -0.427687 -0.082106 -0.103250  1.752622  0.169297   \n",
       "189437 -3.133582 -0.969883  1.404368  0.854597  2.053333 -1.009617 -0.182519   \n",
       "217068  0.620775 -0.028797  0.150078 -0.475101  0.211325  0.617167  0.058093   \n",
       "\n",
       "             V21       V22       V23       V24       V25       V26       V27  \\\n",
       "82554  -0.013368  0.020386 -0.143604 -0.449619  0.622130 -0.293801  0.045570   \n",
       "138271  0.067386  0.401067 -0.205932  0.430671  0.537555 -0.010384  0.014814   \n",
       "95054  -0.008547  0.096397  0.190094 -0.066855 -1.398732  0.200470  0.138851   \n",
       "189437 -0.061919  0.247423  0.508877 -0.643400  0.166095 -0.840673  0.064158   \n",
       "217068  0.112808  0.078878  0.020071 -0.349884 -0.310964  0.837637 -0.124225   \n",
       "\n",
       "             V28  Amount  Class  \n",
       "82554   0.039952    1.00      0  \n",
       "138271  0.039754  129.85      0  \n",
       "95054   0.236363   42.40      0  \n",
       "189437 -0.024343  144.79      0  \n",
       "217068 -0.057190  159.31      0  "
      ]
     },
     "execution_count": 302,
     "metadata": {},
     "output_type": "execute_result"
    }
   ],
   "source": [
    "df.head()"
   ]
  },
  {
   "cell_type": "code",
   "execution_count": 303,
   "id": "announced-musical",
   "metadata": {},
   "outputs": [
    {
     "data": {
      "text/plain": [
       "Time      0\n",
       "V1        0\n",
       "V2        0\n",
       "V3        0\n",
       "V4        0\n",
       "V5        0\n",
       "V6        0\n",
       "V7        0\n",
       "V8        0\n",
       "V9        0\n",
       "V10       0\n",
       "V11       0\n",
       "V12       0\n",
       "V13       0\n",
       "V14       0\n",
       "V15       0\n",
       "V16       0\n",
       "V17       0\n",
       "V18       0\n",
       "V19       0\n",
       "V20       0\n",
       "V21       0\n",
       "V22       0\n",
       "V23       0\n",
       "V24       0\n",
       "V25       0\n",
       "V26       0\n",
       "V27       0\n",
       "V28       0\n",
       "Amount    0\n",
       "Class     0\n",
       "dtype: int64"
      ]
     },
     "execution_count": 303,
     "metadata": {},
     "output_type": "execute_result"
    }
   ],
   "source": [
    "df.isnull().sum()#2"
   ]
  },
  {
   "cell_type": "code",
   "execution_count": 304,
   "id": "united-terrorist",
   "metadata": {},
   "outputs": [
    {
     "data": {
      "text/html": [
       "<div>\n",
       "<style scoped>\n",
       "    .dataframe tbody tr th:only-of-type {\n",
       "        vertical-align: middle;\n",
       "    }\n",
       "\n",
       "    .dataframe tbody tr th {\n",
       "        vertical-align: top;\n",
       "    }\n",
       "\n",
       "    .dataframe thead th {\n",
       "        text-align: right;\n",
       "    }\n",
       "</style>\n",
       "<table border=\"1\" class=\"dataframe\">\n",
       "  <thead>\n",
       "    <tr style=\"text-align: right;\">\n",
       "      <th></th>\n",
       "      <th>Time</th>\n",
       "      <th>V1</th>\n",
       "      <th>V2</th>\n",
       "      <th>V3</th>\n",
       "      <th>V4</th>\n",
       "      <th>V5</th>\n",
       "      <th>V6</th>\n",
       "      <th>V7</th>\n",
       "      <th>V8</th>\n",
       "      <th>V9</th>\n",
       "      <th>V10</th>\n",
       "      <th>V11</th>\n",
       "      <th>V12</th>\n",
       "      <th>V13</th>\n",
       "      <th>V14</th>\n",
       "      <th>V15</th>\n",
       "      <th>V16</th>\n",
       "      <th>V17</th>\n",
       "      <th>V18</th>\n",
       "      <th>V19</th>\n",
       "      <th>V20</th>\n",
       "      <th>V21</th>\n",
       "      <th>V22</th>\n",
       "      <th>V23</th>\n",
       "      <th>V24</th>\n",
       "      <th>V25</th>\n",
       "      <th>V26</th>\n",
       "      <th>V27</th>\n",
       "      <th>V28</th>\n",
       "      <th>Amount</th>\n",
       "      <th>Class</th>\n",
       "    </tr>\n",
       "  </thead>\n",
       "  <tbody>\n",
       "    <tr>\n",
       "      <th>count</th>\n",
       "      <td>85442.000000</td>\n",
       "      <td>85442.000000</td>\n",
       "      <td>85442.000000</td>\n",
       "      <td>85442.000000</td>\n",
       "      <td>85442.000000</td>\n",
       "      <td>85442.000000</td>\n",
       "      <td>85442.000000</td>\n",
       "      <td>85442.000000</td>\n",
       "      <td>85442.000000</td>\n",
       "      <td>85442.000000</td>\n",
       "      <td>85442.000000</td>\n",
       "      <td>85442.000000</td>\n",
       "      <td>85442.000000</td>\n",
       "      <td>85442.000000</td>\n",
       "      <td>85442.000000</td>\n",
       "      <td>85442.000000</td>\n",
       "      <td>85442.000000</td>\n",
       "      <td>85442.000000</td>\n",
       "      <td>85442.000000</td>\n",
       "      <td>85442.000000</td>\n",
       "      <td>85442.000000</td>\n",
       "      <td>85442.000000</td>\n",
       "      <td>85442.000000</td>\n",
       "      <td>85442.000000</td>\n",
       "      <td>85442.000000</td>\n",
       "      <td>85442.000000</td>\n",
       "      <td>85442.000000</td>\n",
       "      <td>85442.000000</td>\n",
       "      <td>85442.000000</td>\n",
       "      <td>85442.000000</td>\n",
       "      <td>85442.000000</td>\n",
       "    </tr>\n",
       "    <tr>\n",
       "      <th>mean</th>\n",
       "      <td>94841.246003</td>\n",
       "      <td>-0.010171</td>\n",
       "      <td>-0.001888</td>\n",
       "      <td>-0.003832</td>\n",
       "      <td>0.002503</td>\n",
       "      <td>-0.005663</td>\n",
       "      <td>0.002767</td>\n",
       "      <td>0.000803</td>\n",
       "      <td>0.000516</td>\n",
       "      <td>-0.008578</td>\n",
       "      <td>-0.001211</td>\n",
       "      <td>0.000071</td>\n",
       "      <td>-0.001419</td>\n",
       "      <td>0.000378</td>\n",
       "      <td>-0.000252</td>\n",
       "      <td>0.001782</td>\n",
       "      <td>0.001929</td>\n",
       "      <td>0.004703</td>\n",
       "      <td>-0.002961</td>\n",
       "      <td>0.002462</td>\n",
       "      <td>0.001675</td>\n",
       "      <td>-0.001362</td>\n",
       "      <td>0.003031</td>\n",
       "      <td>-0.000353</td>\n",
       "      <td>-0.001595</td>\n",
       "      <td>0.000507</td>\n",
       "      <td>0.000936</td>\n",
       "      <td>-0.001703</td>\n",
       "      <td>-0.004222</td>\n",
       "      <td>89.431433</td>\n",
       "      <td>0.001791</td>\n",
       "    </tr>\n",
       "    <tr>\n",
       "      <th>std</th>\n",
       "      <td>47438.718651</td>\n",
       "      <td>1.994285</td>\n",
       "      <td>1.696907</td>\n",
       "      <td>1.537122</td>\n",
       "      <td>1.418064</td>\n",
       "      <td>1.435122</td>\n",
       "      <td>1.358874</td>\n",
       "      <td>1.314291</td>\n",
       "      <td>1.224064</td>\n",
       "      <td>1.101480</td>\n",
       "      <td>1.090863</td>\n",
       "      <td>1.020792</td>\n",
       "      <td>0.995493</td>\n",
       "      <td>0.994091</td>\n",
       "      <td>0.961068</td>\n",
       "      <td>0.916744</td>\n",
       "      <td>0.877637</td>\n",
       "      <td>0.850660</td>\n",
       "      <td>0.839615</td>\n",
       "      <td>0.816731</td>\n",
       "      <td>0.804450</td>\n",
       "      <td>0.737534</td>\n",
       "      <td>0.724779</td>\n",
       "      <td>0.649415</td>\n",
       "      <td>0.606277</td>\n",
       "      <td>0.523133</td>\n",
       "      <td>0.479602</td>\n",
       "      <td>0.419939</td>\n",
       "      <td>0.332635</td>\n",
       "      <td>267.336043</td>\n",
       "      <td>0.042279</td>\n",
       "    </tr>\n",
       "    <tr>\n",
       "      <th>min</th>\n",
       "      <td>2.000000</td>\n",
       "      <td>-46.855047</td>\n",
       "      <td>-60.464618</td>\n",
       "      <td>-48.325589</td>\n",
       "      <td>-5.683171</td>\n",
       "      <td>-113.743307</td>\n",
       "      <td>-23.496714</td>\n",
       "      <td>-41.506796</td>\n",
       "      <td>-73.216718</td>\n",
       "      <td>-13.434066</td>\n",
       "      <td>-24.403185</td>\n",
       "      <td>-4.797473</td>\n",
       "      <td>-17.182918</td>\n",
       "      <td>-5.791881</td>\n",
       "      <td>-18.392091</td>\n",
       "      <td>-4.498945</td>\n",
       "      <td>-12.448562</td>\n",
       "      <td>-25.162799</td>\n",
       "      <td>-9.498746</td>\n",
       "      <td>-6.938297</td>\n",
       "      <td>-54.497720</td>\n",
       "      <td>-34.830382</td>\n",
       "      <td>-9.499423</td>\n",
       "      <td>-44.807735</td>\n",
       "      <td>-2.824849</td>\n",
       "      <td>-10.295397</td>\n",
       "      <td>-2.604551</td>\n",
       "      <td>-22.565679</td>\n",
       "      <td>-15.430084</td>\n",
       "      <td>0.000000</td>\n",
       "      <td>0.000000</td>\n",
       "    </tr>\n",
       "    <tr>\n",
       "      <th>25%</th>\n",
       "      <td>54208.250000</td>\n",
       "      <td>-0.928177</td>\n",
       "      <td>-0.600608</td>\n",
       "      <td>-0.891790</td>\n",
       "      <td>-0.849129</td>\n",
       "      <td>-0.697643</td>\n",
       "      <td>-0.768992</td>\n",
       "      <td>-0.556050</td>\n",
       "      <td>-0.208581</td>\n",
       "      <td>-0.654425</td>\n",
       "      <td>-0.540399</td>\n",
       "      <td>-0.765018</td>\n",
       "      <td>-0.408990</td>\n",
       "      <td>-0.647840</td>\n",
       "      <td>-0.425236</td>\n",
       "      <td>-0.576507</td>\n",
       "      <td>-0.469333</td>\n",
       "      <td>-0.479567</td>\n",
       "      <td>-0.500779</td>\n",
       "      <td>-0.452450</td>\n",
       "      <td>-0.212449</td>\n",
       "      <td>-0.227595</td>\n",
       "      <td>-0.537935</td>\n",
       "      <td>-0.162626</td>\n",
       "      <td>-0.356977</td>\n",
       "      <td>-0.316615</td>\n",
       "      <td>-0.325967</td>\n",
       "      <td>-0.071098</td>\n",
       "      <td>-0.053403</td>\n",
       "      <td>5.780000</td>\n",
       "      <td>0.000000</td>\n",
       "    </tr>\n",
       "    <tr>\n",
       "      <th>50%</th>\n",
       "      <td>84613.500000</td>\n",
       "      <td>0.007133</td>\n",
       "      <td>0.067664</td>\n",
       "      <td>0.175793</td>\n",
       "      <td>-0.022525</td>\n",
       "      <td>-0.056679</td>\n",
       "      <td>-0.272797</td>\n",
       "      <td>0.041056</td>\n",
       "      <td>0.024004</td>\n",
       "      <td>-0.057457</td>\n",
       "      <td>-0.093076</td>\n",
       "      <td>-0.031854</td>\n",
       "      <td>0.138808</td>\n",
       "      <td>-0.013772</td>\n",
       "      <td>0.047328</td>\n",
       "      <td>0.046637</td>\n",
       "      <td>0.067599</td>\n",
       "      <td>-0.059704</td>\n",
       "      <td>-0.007070</td>\n",
       "      <td>0.008248</td>\n",
       "      <td>-0.061415</td>\n",
       "      <td>-0.027491</td>\n",
       "      <td>0.009300</td>\n",
       "      <td>-0.011651</td>\n",
       "      <td>0.039911</td>\n",
       "      <td>0.014846</td>\n",
       "      <td>-0.052808</td>\n",
       "      <td>0.001122</td>\n",
       "      <td>0.010723</td>\n",
       "      <td>22.080000</td>\n",
       "      <td>0.000000</td>\n",
       "    </tr>\n",
       "    <tr>\n",
       "      <th>75%</th>\n",
       "      <td>139346.000000</td>\n",
       "      <td>1.315191</td>\n",
       "      <td>0.810761</td>\n",
       "      <td>1.025322</td>\n",
       "      <td>0.744288</td>\n",
       "      <td>0.610099</td>\n",
       "      <td>0.402724</td>\n",
       "      <td>0.572684</td>\n",
       "      <td>0.329485</td>\n",
       "      <td>0.591999</td>\n",
       "      <td>0.458344</td>\n",
       "      <td>0.740210</td>\n",
       "      <td>0.615400</td>\n",
       "      <td>0.659091</td>\n",
       "      <td>0.495139</td>\n",
       "      <td>0.650899</td>\n",
       "      <td>0.525487</td>\n",
       "      <td>0.406254</td>\n",
       "      <td>0.499720</td>\n",
       "      <td>0.461662</td>\n",
       "      <td>0.135825</td>\n",
       "      <td>0.188125</td>\n",
       "      <td>0.530700</td>\n",
       "      <td>0.146590</td>\n",
       "      <td>0.438864</td>\n",
       "      <td>0.352588</td>\n",
       "      <td>0.241885</td>\n",
       "      <td>0.090025</td>\n",
       "      <td>0.076730</td>\n",
       "      <td>78.000000</td>\n",
       "      <td>0.000000</td>\n",
       "    </tr>\n",
       "    <tr>\n",
       "      <th>max</th>\n",
       "      <td>172792.000000</td>\n",
       "      <td>2.454930</td>\n",
       "      <td>21.467203</td>\n",
       "      <td>9.382558</td>\n",
       "      <td>16.875344</td>\n",
       "      <td>34.099309</td>\n",
       "      <td>73.301626</td>\n",
       "      <td>120.589494</td>\n",
       "      <td>19.587773</td>\n",
       "      <td>15.594995</td>\n",
       "      <td>23.745136</td>\n",
       "      <td>11.027059</td>\n",
       "      <td>7.848392</td>\n",
       "      <td>7.126883</td>\n",
       "      <td>10.526766</td>\n",
       "      <td>8.877742</td>\n",
       "      <td>17.315112</td>\n",
       "      <td>9.253526</td>\n",
       "      <td>4.712398</td>\n",
       "      <td>5.501747</td>\n",
       "      <td>38.117209</td>\n",
       "      <td>22.599543</td>\n",
       "      <td>10.503090</td>\n",
       "      <td>22.528412</td>\n",
       "      <td>4.584549</td>\n",
       "      <td>7.519589</td>\n",
       "      <td>3.415636</td>\n",
       "      <td>31.612198</td>\n",
       "      <td>22.620072</td>\n",
       "      <td>25691.160000</td>\n",
       "      <td>1.000000</td>\n",
       "    </tr>\n",
       "  </tbody>\n",
       "</table>\n",
       "</div>"
      ],
      "text/plain": [
       "                Time            V1            V2            V3            V4  \\\n",
       "count   85442.000000  85442.000000  85442.000000  85442.000000  85442.000000   \n",
       "mean    94841.246003     -0.010171     -0.001888     -0.003832      0.002503   \n",
       "std     47438.718651      1.994285      1.696907      1.537122      1.418064   \n",
       "min         2.000000    -46.855047    -60.464618    -48.325589     -5.683171   \n",
       "25%     54208.250000     -0.928177     -0.600608     -0.891790     -0.849129   \n",
       "50%     84613.500000      0.007133      0.067664      0.175793     -0.022525   \n",
       "75%    139346.000000      1.315191      0.810761      1.025322      0.744288   \n",
       "max    172792.000000      2.454930     21.467203      9.382558     16.875344   \n",
       "\n",
       "                 V5            V6            V7            V8            V9  \\\n",
       "count  85442.000000  85442.000000  85442.000000  85442.000000  85442.000000   \n",
       "mean      -0.005663      0.002767      0.000803      0.000516     -0.008578   \n",
       "std        1.435122      1.358874      1.314291      1.224064      1.101480   \n",
       "min     -113.743307    -23.496714    -41.506796    -73.216718    -13.434066   \n",
       "25%       -0.697643     -0.768992     -0.556050     -0.208581     -0.654425   \n",
       "50%       -0.056679     -0.272797      0.041056      0.024004     -0.057457   \n",
       "75%        0.610099      0.402724      0.572684      0.329485      0.591999   \n",
       "max       34.099309     73.301626    120.589494     19.587773     15.594995   \n",
       "\n",
       "                V10           V11           V12           V13           V14  \\\n",
       "count  85442.000000  85442.000000  85442.000000  85442.000000  85442.000000   \n",
       "mean      -0.001211      0.000071     -0.001419      0.000378     -0.000252   \n",
       "std        1.090863      1.020792      0.995493      0.994091      0.961068   \n",
       "min      -24.403185     -4.797473    -17.182918     -5.791881    -18.392091   \n",
       "25%       -0.540399     -0.765018     -0.408990     -0.647840     -0.425236   \n",
       "50%       -0.093076     -0.031854      0.138808     -0.013772      0.047328   \n",
       "75%        0.458344      0.740210      0.615400      0.659091      0.495139   \n",
       "max       23.745136     11.027059      7.848392      7.126883     10.526766   \n",
       "\n",
       "                V15           V16           V17           V18           V19  \\\n",
       "count  85442.000000  85442.000000  85442.000000  85442.000000  85442.000000   \n",
       "mean       0.001782      0.001929      0.004703     -0.002961      0.002462   \n",
       "std        0.916744      0.877637      0.850660      0.839615      0.816731   \n",
       "min       -4.498945    -12.448562    -25.162799     -9.498746     -6.938297   \n",
       "25%       -0.576507     -0.469333     -0.479567     -0.500779     -0.452450   \n",
       "50%        0.046637      0.067599     -0.059704     -0.007070      0.008248   \n",
       "75%        0.650899      0.525487      0.406254      0.499720      0.461662   \n",
       "max        8.877742     17.315112      9.253526      4.712398      5.501747   \n",
       "\n",
       "                V20           V21           V22           V23           V24  \\\n",
       "count  85442.000000  85442.000000  85442.000000  85442.000000  85442.000000   \n",
       "mean       0.001675     -0.001362      0.003031     -0.000353     -0.001595   \n",
       "std        0.804450      0.737534      0.724779      0.649415      0.606277   \n",
       "min      -54.497720    -34.830382     -9.499423    -44.807735     -2.824849   \n",
       "25%       -0.212449     -0.227595     -0.537935     -0.162626     -0.356977   \n",
       "50%       -0.061415     -0.027491      0.009300     -0.011651      0.039911   \n",
       "75%        0.135825      0.188125      0.530700      0.146590      0.438864   \n",
       "max       38.117209     22.599543     10.503090     22.528412      4.584549   \n",
       "\n",
       "                V25           V26           V27           V28        Amount  \\\n",
       "count  85442.000000  85442.000000  85442.000000  85442.000000  85442.000000   \n",
       "mean       0.000507      0.000936     -0.001703     -0.004222     89.431433   \n",
       "std        0.523133      0.479602      0.419939      0.332635    267.336043   \n",
       "min      -10.295397     -2.604551    -22.565679    -15.430084      0.000000   \n",
       "25%       -0.316615     -0.325967     -0.071098     -0.053403      5.780000   \n",
       "50%        0.014846     -0.052808      0.001122      0.010723     22.080000   \n",
       "75%        0.352588      0.241885      0.090025      0.076730     78.000000   \n",
       "max        7.519589      3.415636     31.612198     22.620072  25691.160000   \n",
       "\n",
       "              Class  \n",
       "count  85442.000000  \n",
       "mean       0.001791  \n",
       "std        0.042279  \n",
       "min        0.000000  \n",
       "25%        0.000000  \n",
       "50%        0.000000  \n",
       "75%        0.000000  \n",
       "max        1.000000  "
      ]
     },
     "execution_count": 304,
     "metadata": {},
     "output_type": "execute_result"
    }
   ],
   "source": [
    "df.describe()"
   ]
  },
  {
   "cell_type": "code",
   "execution_count": 305,
   "id": "exotic-charge",
   "metadata": {},
   "outputs": [
    {
     "name": "stdout",
     "output_type": "stream",
     "text": [
      "<class 'pandas.core.frame.DataFrame'>\n",
      "Int64Index: 85442 entries, 82554 to 193343\n",
      "Data columns (total 31 columns):\n",
      " #   Column  Non-Null Count  Dtype  \n",
      "---  ------  --------------  -----  \n",
      " 0   Time    85442 non-null  float64\n",
      " 1   V1      85442 non-null  float64\n",
      " 2   V2      85442 non-null  float64\n",
      " 3   V3      85442 non-null  float64\n",
      " 4   V4      85442 non-null  float64\n",
      " 5   V5      85442 non-null  float64\n",
      " 6   V6      85442 non-null  float64\n",
      " 7   V7      85442 non-null  float64\n",
      " 8   V8      85442 non-null  float64\n",
      " 9   V9      85442 non-null  float64\n",
      " 10  V10     85442 non-null  float64\n",
      " 11  V11     85442 non-null  float64\n",
      " 12  V12     85442 non-null  float64\n",
      " 13  V13     85442 non-null  float64\n",
      " 14  V14     85442 non-null  float64\n",
      " 15  V15     85442 non-null  float64\n",
      " 16  V16     85442 non-null  float64\n",
      " 17  V17     85442 non-null  float64\n",
      " 18  V18     85442 non-null  float64\n",
      " 19  V19     85442 non-null  float64\n",
      " 20  V20     85442 non-null  float64\n",
      " 21  V21     85442 non-null  float64\n",
      " 22  V22     85442 non-null  float64\n",
      " 23  V23     85442 non-null  float64\n",
      " 24  V24     85442 non-null  float64\n",
      " 25  V25     85442 non-null  float64\n",
      " 26  V26     85442 non-null  float64\n",
      " 27  V27     85442 non-null  float64\n",
      " 28  V28     85442 non-null  float64\n",
      " 29  Amount  85442 non-null  float64\n",
      " 30  Class   85442 non-null  int64  \n",
      "dtypes: float64(30), int64(1)\n",
      "memory usage: 20.9 MB\n"
     ]
    }
   ],
   "source": [
    "df.info()#3"
   ]
  },
  {
   "cell_type": "code",
   "execution_count": 306,
   "id": "meaning-crystal",
   "metadata": {},
   "outputs": [
    {
     "data": {
      "text/plain": [
       "0    85289\n",
       "1      153\n",
       "Name: Class, dtype: int64"
      ]
     },
     "execution_count": 306,
     "metadata": {},
     "output_type": "execute_result"
    }
   ],
   "source": [
    "df.Class.value_counts()"
   ]
  },
  {
   "cell_type": "code",
   "execution_count": 307,
   "id": "beginning-hammer",
   "metadata": {},
   "outputs": [
    {
     "data": {
      "text/plain": [
       "0    99.820931\n",
       "1     0.179069\n",
       "Name: Class, dtype: float64"
      ]
     },
     "execution_count": 307,
     "metadata": {},
     "output_type": "execute_result"
    }
   ],
   "source": [
    "df.Class.value_counts()*100/df.shape[0]"
   ]
  },
  {
   "cell_type": "code",
   "execution_count": 308,
   "id": "elder-conjunction",
   "metadata": {},
   "outputs": [],
   "source": [
    "import matplotlib.pyplot as plt\n",
    "%matplotlib inline\n",
    "import seaborn as sns"
   ]
  },
  {
   "cell_type": "code",
   "execution_count": 309,
   "id": "laden-elder",
   "metadata": {},
   "outputs": [
    {
     "data": {
      "text/plain": [
       "<AxesSubplot:>"
      ]
     },
     "execution_count": 309,
     "metadata": {},
     "output_type": "execute_result"
    },
    {
     "data": {
      "image/png": "[encoded data removed]",
      "text/plain": [
       "<Figure size 864x576 with 2 Axes>"
      ]
     },
     "metadata": {
      "needs_background": "light"
     },
     "output_type": "display_data"
    }
   ],
   "source": [
    "plt.figure(figsize=(12,8))#4\n",
    "sns.heatmap(df.corr()) # Heatmap of correlation between columns of ‘df’."
   ]
  },
  {
   "cell_type": "markdown",
   "id": "amino-pitch",
   "metadata": {},
   "source": [
    "# Algorithms"
   ]
  },
  {
   "cell_type": "code",
   "execution_count": 310,
   "id": "heated-upset",
   "metadata": {},
   "outputs": [],
   "source": [
    "from sklearn.metrics import accuracy_score, classification_report, recall_score,precision_score\n",
    "from sklearn.model_selection import train_test_split\n"
   ]
  },
  {
   "cell_type": "code",
   "execution_count": 311,
   "id": "productive-jumping",
   "metadata": {},
   "outputs": [],
   "source": [
    "X=df.drop(['Class'],axis=1)\n",
    "y=df.Class"
   ]
  },
  {
   "cell_type": "code",
   "execution_count": 312,
   "id": "invalid-christianity",
   "metadata": {},
   "outputs": [],
   "source": [
    "from xgboost import XGBClassifier"
   ]
  },
  {
   "cell_type": "code",
   "execution_count": 313,
   "id": "joint-extraction",
   "metadata": {},
   "outputs": [
    {
     "data": {
      "text/plain": [
       "XGBClassifier(base_score=0.5, booster='gbtree', colsample_bylevel=1,\n",
       "              colsample_bynode=1, colsample_bytree=1, gamma=0, gpu_id=-1,\n",
       "              importance_type='gain', interaction_constraints='',\n",
       "              learning_rate=0.300000012, max_delta_step=0, max_depth=6,\n",
       "              min_child_weight=1, missing=nan, monotone_constraints='()',\n",
       "              n_estimators=100, n_jobs=0, num_parallel_tree=1, random_state=0,\n",
       "              reg_alpha=0, reg_lambda=1, scale_pos_weight=1, subsample=1,\n",
       "              tree_method='exact', validate_parameters=1, verbosity=None)"
      ]
     },
     "execution_count": 313,
     "metadata": {},
     "output_type": "execute_result"
    }
   ],
   "source": [
    "xgb = XGBClassifier()\n",
    "xgb.fit(X_train, y_train)"
   ]
  },
  {
   "cell_type": "code",
   "execution_count": 314,
   "id": "floppy-survival",
   "metadata": {},
   "outputs": [],
   "source": [
    "y_pred = xgb.predict(X_test)"
   ]
  },
  {
   "cell_type": "code",
   "execution_count": 315,
   "id": "clean-honey",
   "metadata": {},
   "outputs": [
    {
     "name": "stdout",
     "output_type": "stream",
     "text": [
      "0.9996098778917801\n",
      "0.9534883720930233\n",
      "0.8367346938775511\n"
     ]
    }
   ],
   "source": [
    "xgbc = accuracy_score(y_test, y_pred)\n",
    "pxgb = precision_score(y_test, y_pred)\n",
    "rxgb = recall_score(y_test,y_pred)\n",
    "print(xgbc)\n",
    "print(pxgb)\n",
    "print(rxgb)"
   ]
  },
  {
   "cell_type": "code",
   "execution_count": 316,
   "id": "rocky-batch",
   "metadata": {},
   "outputs": [],
   "source": [
    "from sklearn.ensemble import RandomForestClassifier  "
   ]
  },
  {
   "cell_type": "code",
   "execution_count": 317,
   "id": "unnecessary-dress",
   "metadata": {},
   "outputs": [
    {
     "data": {
      "text/plain": [
       "RandomForestClassifier()"
      ]
     },
     "execution_count": 317,
     "metadata": {},
     "output_type": "execute_result"
    }
   ],
   "source": [
    "rf = RandomForestClassifier()\n",
    "rf.fit(X_train,y_train)"
   ]
  },
  {
   "cell_type": "code",
   "execution_count": 318,
   "id": "stunning-satellite",
   "metadata": {},
   "outputs": [],
   "source": [
    "y_preds= rf.predict(X_test)  "
   ]
  },
  {
   "cell_type": "code",
   "execution_count": 319,
   "id": "corresponding-chambers",
   "metadata": {},
   "outputs": [
    {
     "name": "stdout",
     "output_type": "stream",
     "text": [
      "0.9995318534701362\n",
      "0.9512195121951219\n",
      "0.7959183673469388\n"
     ]
    }
   ],
   "source": [
    "rfc = accuracy_score(y_test,y_preds)\n",
    "prfc= precision_score(y_test, y_preds)\n",
    "rrfc = recall_score(y_test,y_preds)\n",
    "print(rfc)\n",
    "print(prfc)\n",
    "print(rrfc)"
   ]
  },
  {
   "cell_type": "code",
   "execution_count": 321,
   "id": "egyptian-conversation",
   "metadata": {},
   "outputs": [],
   "source": [
    "from sklearn.tree import DecisionTreeClassifier "
   ]
  },
  {
   "cell_type": "code",
   "execution_count": 322,
   "id": "adjacent-basin",
   "metadata": {},
   "outputs": [
    {
     "data": {
      "text/plain": [
       "DecisionTreeClassifier()"
      ]
     },
     "execution_count": 322,
     "metadata": {},
     "output_type": "execute_result"
    }
   ],
   "source": [
    "dt = DecisionTreeClassifier()\n",
    "dt.fit(X_train,y_train)"
   ]
  },
  {
   "cell_type": "code",
   "execution_count": 323,
   "id": "flush-spiritual",
   "metadata": {},
   "outputs": [],
   "source": [
    "asd =dt.predict(X_test)"
   ]
  },
  {
   "cell_type": "code",
   "execution_count": 324,
   "id": "wireless-canal",
   "metadata": {},
   "outputs": [
    {
     "name": "stdout",
     "output_type": "stream",
     "text": [
      "0.9989076580969843\n",
      "0.7142857142857143\n",
      "0.7142857142857143\n"
     ]
    }
   ],
   "source": [
    "dtc = accuracy_score(y_test,asd)\n",
    "pdtc= precision_score(y_test, asd)\n",
    "rdtc = recall_score(y_test,asd)\n",
    "print(dtc)\n",
    "print(pdtc)\n",
    "print(rdtc)"
   ]
  },
  {
   "cell_type": "code",
   "execution_count": 325,
   "id": "dominican-music",
   "metadata": {},
   "outputs": [
    {
     "data": {
      "text/html": [
       "<div>\n",
       "<style scoped>\n",
       "    .dataframe tbody tr th:only-of-type {\n",
       "        vertical-align: middle;\n",
       "    }\n",
       "\n",
       "    .dataframe tbody tr th {\n",
       "        vertical-align: top;\n",
       "    }\n",
       "\n",
       "    .dataframe thead th {\n",
       "        text-align: right;\n",
       "    }\n",
       "</style>\n",
       "<table border=\"1\" class=\"dataframe\">\n",
       "  <thead>\n",
       "    <tr style=\"text-align: right;\">\n",
       "      <th></th>\n",
       "      <th>Models</th>\n",
       "      <th>Accuracy</th>\n",
       "      <th>Precision</th>\n",
       "      <th>Recall</th>\n",
       "    </tr>\n",
       "  </thead>\n",
       "  <tbody>\n",
       "    <tr>\n",
       "      <th>0</th>\n",
       "      <td>xgboost</td>\n",
       "      <td>99.960988</td>\n",
       "      <td>95.348837</td>\n",
       "      <td>83.673469</td>\n",
       "    </tr>\n",
       "    <tr>\n",
       "      <th>1</th>\n",
       "      <td>RandomForest</td>\n",
       "      <td>99.953185</td>\n",
       "      <td>95.121951</td>\n",
       "      <td>79.591837</td>\n",
       "    </tr>\n",
       "    <tr>\n",
       "      <th>2</th>\n",
       "      <td>DecisionTree</td>\n",
       "      <td>99.890766</td>\n",
       "      <td>71.428571</td>\n",
       "      <td>71.428571</td>\n",
       "    </tr>\n",
       "  </tbody>\n",
       "</table>\n",
       "</div>"
      ],
      "text/plain": [
       "         Models   Accuracy  Precision     Recall\n",
       "0       xgboost  99.960988  95.348837  83.673469\n",
       "1  RandomForest  99.953185  95.121951  79.591837\n",
       "2  DecisionTree  99.890766  71.428571  71.428571"
      ]
     },
     "execution_count": 325,
     "metadata": {},
     "output_type": "execute_result"
    }
   ],
   "source": [
    "graph = pd.DataFrame({'Models':['xgboost','RandomForest','DecisionTree'],'Accuracy':[xgbc*100,rfc*100,dtc*100],'Precision':[pxgb*100,prfc*100,pdtc*100],\n",
    "                      'Recall':[rxgb*100,rrfc*100,rdtc*100]})\n",
    "graph"
   ]
  },
  {
   "cell_type": "code",
   "execution_count": 326,
   "id": "affecting-feedback",
   "metadata": {},
   "outputs": [
    {
     "data": {
      "image/png": "[encoded data removed]",
      "text/plain": [
       "<Figure size 720x432 with 1 Axes>"
      ]
     },
     "metadata": {
      "needs_background": "light"
     },
     "output_type": "display_data"
    }
   ],
   "source": [
    "plt.figure(figsize = (10,6))\n",
    "sns.barplot(y = graph.Precision,x = graph.Models)\n",
    "plt.xticks(rotation = 'vertical')\n",
    "plt.show()"
   ]
  },
  {
   "cell_type": "code",
   "execution_count": 327,
   "id": "civil-auckland",
   "metadata": {},
   "outputs": [
    {
     "data": {
      "image/png": "[encoded data removed]",
      "text/plain": [
       "<Figure size 720x432 with 1 Axes>"
      ]
     },
     "metadata": {
      "needs_background": "light"
     },
     "output_type": "display_data"
    }
   ],
   "source": [
    "plt.figure(figsize = (10,6))\n",
    "sns.barplot(y = graph.Recall,x = graph.Models)\n",
    "plt.xticks(rotation = 'vertical')\n",
    "plt.show()"
   ]
  },
  {
   "cell_type": "code",
   "execution_count": 328,
   "id": "simplified-beast",
   "metadata": {},
   "outputs": [
    {
     "data": {
      "image/png": "[encoded data removed]",
      "text/plain": [
       "<Figure size 720x432 with 1 Axes>"
      ]
     },
     "metadata": {
      "needs_background": "light"
     },
     "output_type": "display_data"
    }
   ],
   "source": [
    "plt.figure(figsize = (10,6))\n",
    "sns.barplot(y = graph.Accuracy,x = graph.Models)\n",
    "plt.xticks(rotation = 'vertical')\n",
    "plt.show()"
   ]
  },
  {
   "cell_type": "code",
   "execution_count": null,
   "id": "elegant-grass",
   "metadata": {},
   "outputs": [],
   "source": []
  },
  {
   "cell_type": "code",
   "execution_count": null,
   "id": "white-simon",
   "metadata": {},
   "outputs": [],
   "source": []
  }
 ],
 "metadata": {
  "kernelspec": {
   "display_name": "Python 3",
   "language": "python",
   "name": "python3"
  },
  "language_info": {
   "codemirror_mode": {
    "name": "ipython",
    "version": 3
   },
   "file_extension": ".py",
   "mimetype": "text/x-python",
   "name": "python",
   "nbconvert_exporter": "python",
   "pygments_lexer": "ipython3",
   "version": "3.7.4"
  }
 },
 "nbformat": 4,
 "nbformat_minor": 5
}
